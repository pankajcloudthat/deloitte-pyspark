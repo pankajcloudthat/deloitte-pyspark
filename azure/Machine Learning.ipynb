{
 "cells": [
  {
   "cell_type": "markdown",
   "metadata": {
    "application/vnd.databricks.v1+cell": {
     "cellMetadata": {},
     "inputWidgets": {},
     "nuid": "1aa81a46-acc2-467b-9bf6-952cd46eb4b9",
     "showTitle": false,
     "tableResultSettingsMap": {},
     "title": ""
    }
   },
   "source": [
    "### Ingest data"
   ]
  },
  {
   "cell_type": "code",
   "execution_count": 0,
   "metadata": {
    "application/vnd.databricks.v1+cell": {
     "cellMetadata": {
      "byteLimit": 2048000,
      "rowLimit": 10000
     },
     "inputWidgets": {},
     "nuid": "8fef6f40-05de-4acf-ae8f-a586420316cf",
     "showTitle": false,
     "tableResultSettingsMap": {},
     "title": ""
    }
   },
   "outputs": [
    {
     "output_type": "stream",
     "name": "stderr",
     "output_type": "stream",
     "text": [
      "--2024-12-20 05:09:33--  https://raw.githubusercontent.com/MicrosoftLearning/mslearn-databricks/main/data/penguins.csv\nResolving raw.githubusercontent.com (raw.githubusercontent.com)... 185.199.109.133, 185.199.110.133, 185.199.111.133, ...\nConnecting to raw.githubusercontent.com (raw.githubusercontent.com)|185.199.109.133|:443... connected.\nHTTP request sent, awaiting response... 200 OK\nLength: 9533 (9.3K) [text/plain]\nSaving to: ‘/dbfs/ml_lab/penguins.csv’\n\n     0K .........                                             100% 1.61M=0.006s\n\n2024-12-20 05:09:35 (1.61 MB/s) - ‘/dbfs/ml_lab/penguins.csv’ saved [9533/9533]\n\n"
     ]
    }
   ],
   "source": [
    " %sh\n",
    " rm -r /dbfs/ml_lab\n",
    " mkdir /dbfs/ml_lab\n",
    " wget -O /dbfs/ml_lab/penguins.csv https://raw.githubusercontent.com/MicrosoftLearning/mslearn-databricks/main/data/penguins.csv"
   ]
  },
  {
   "cell_type": "markdown",
   "metadata": {
    "application/vnd.databricks.v1+cell": {
     "cellMetadata": {},
     "inputWidgets": {},
     "nuid": "7163bf36-e753-42b1-be80-1ace6f4aa40e",
     "showTitle": false,
     "tableResultSettingsMap": {},
     "title": ""
    }
   },
   "source": [
    "### Explore and clean up the data\n",
    "\n",
    "The data itself consists of measurements of the following details of penguins that have been observed in Antarctica:\n",
    "\n",
    "- Island: The island in Antarctica where the penguin was observed.\n",
    "- CulmenLength: The length in mm of the penguin’s culmen (bill).\n",
    "- CulmenDepth: The depth in mm of the penguin’s culmen.\n",
    "- FlipperLength: The length in mm of the penguin’s flipper.\n",
    "- BodyMass: The body mass of the penguin in grams.\n",
    "- Species: An integer value that represents the species of the penguin:\n",
    "  - 0: Adelie\n",
    "  - 1: Gentoo\n",
    "  - 2: Chinstrap"
   ]
  },
  {
   "cell_type": "code",
   "execution_count": 0,
   "metadata": {
    "application/vnd.databricks.v1+cell": {
     "cellMetadata": {
      "byteLimit": 2048000,
      "rowLimit": 10000
     },
     "inputWidgets": {},
     "nuid": "867aba4f-7928-4bf8-bc05-69793bf66189",
     "showTitle": false,
     "tableResultSettingsMap": {},
     "title": ""
    }
   },
   "outputs": [
    {
     "output_type": "display_data",
     "data": {
      "text/html": [
       "<style scoped>\n",
       "  .table-result-container {\n",
       "    max-height: 300px;\n",
       "    overflow: auto;\n",
       "  }\n",
       "  table, th, td {\n",
       "    border: 1px solid black;\n",
       "    border-collapse: collapse;\n",
       "  }\n",
       "  th, td {\n",
       "    padding: 5px;\n",
       "  }\n",
       "  th {\n",
       "    text-align: left;\n",
       "  }\n",
       "</style><div class='table-result-container'><table class='table-result'><thead style='background-color: white'><tr><th>Island</th><th>CulmenLength</th><th>CulmenDepth</th><th>FlipperLength</th><th>BodyMass</th><th>Species</th></tr></thead><tbody><tr><td>Torgersen</td><td>39.1</td><td>18.7</td><td>181</td><td>3750</td><td>0</td></tr><tr><td>Torgersen</td><td>39.5</td><td>17.4</td><td>186</td><td>3800</td><td>0</td></tr><tr><td>Torgersen</td><td>40.3</td><td>18</td><td>195</td><td>3250</td><td>0</td></tr><tr><td>Torgersen</td><td>null</td><td>null</td><td>null</td><td>null</td><td>0</td></tr><tr><td>Torgersen</td><td>36.7</td><td>19.3</td><td>193</td><td>3450</td><td>0</td></tr><tr><td>Torgersen</td><td>39.3</td><td>20.6</td><td>190</td><td>3650</td><td>0</td></tr><tr><td>Torgersen</td><td>38.9</td><td>17.8</td><td>181</td><td>3625</td><td>0</td></tr><tr><td>Torgersen</td><td>39.2</td><td>19.6</td><td>195</td><td>4675</td><td>0</td></tr><tr><td>Torgersen</td><td>34.1</td><td>18.1</td><td>193</td><td>3475</td><td>0</td></tr><tr><td>Torgersen</td><td>42</td><td>20.2</td><td>190</td><td>4250</td><td>0</td></tr></tbody></table></div>"
      ]
     },
     "metadata": {
      "application/vnd.databricks.v1+output": {
       "addedWidgets": {},
       "aggData": [],
       "aggError": "",
       "aggOverflow": false,
       "aggSchema": [],
       "aggSeriesLimitReached": false,
       "aggType": "",
       "arguments": {},
       "columnCustomDisplayInfos": {},
       "data": [
        [
         "Torgersen",
         "39.1",
         "18.7",
         "181",
         "3750",
         "0"
        ],
        [
         "Torgersen",
         "39.5",
         "17.4",
         "186",
         "3800",
         "0"
        ],
        [
         "Torgersen",
         "40.3",
         "18",
         "195",
         "3250",
         "0"
        ],
        [
         "Torgersen",
         null,
         null,
         null,
         null,
         "0"
        ],
        [
         "Torgersen",
         "36.7",
         "19.3",
         "193",
         "3450",
         "0"
        ],
        [
         "Torgersen",
         "39.3",
         "20.6",
         "190",
         "3650",
         "0"
        ],
        [
         "Torgersen",
         "38.9",
         "17.8",
         "181",
         "3625",
         "0"
        ],
        [
         "Torgersen",
         "39.2",
         "19.6",
         "195",
         "4675",
         "0"
        ],
        [
         "Torgersen",
         "34.1",
         "18.1",
         "193",
         "3475",
         "0"
        ],
        [
         "Torgersen",
         "42",
         "20.2",
         "190",
         "4250",
         "0"
        ]
       ],
       "datasetInfos": [],
       "dbfsResultPath": null,
       "isJsonSchema": true,
       "metadata": {},
       "overflow": false,
       "plotOptions": {
        "customPlotOptions": {},
        "displayType": "table",
        "pivotAggregation": null,
        "pivotColumns": null,
        "xColumns": null,
        "yColumns": null
       },
       "removedWidgets": [],
       "schema": [
        {
         "metadata": "{}",
         "name": "Island",
         "type": "\"string\""
        },
        {
         "metadata": "{}",
         "name": "CulmenLength",
         "type": "\"string\""
        },
        {
         "metadata": "{}",
         "name": "CulmenDepth",
         "type": "\"string\""
        },
        {
         "metadata": "{}",
         "name": "FlipperLength",
         "type": "\"string\""
        },
        {
         "metadata": "{}",
         "name": "BodyMass",
         "type": "\"string\""
        },
        {
         "metadata": "{}",
         "name": "Species",
         "type": "\"string\""
        }
       ],
       "type": "table"
      }
     },
     "output_type": "display_data"
    }
   ],
   "source": [
    "df = spark.read.format(\"csv\").option(\"header\", \"true\").load(\"/ml_lab/penguins.csv\")\n",
    "display(df.limit(10))"
   ]
  },
  {
   "cell_type": "markdown",
   "metadata": {
    "application/vnd.databricks.v1+cell": {
     "cellMetadata": {},
     "inputWidgets": {},
     "nuid": "7ad9dabf-d334-4bc3-b9f9-98dc2beecbe5",
     "showTitle": false,
     "tableResultSettingsMap": {},
     "title": ""
    }
   },
   "source": [
    "### Remove the rows with incomplete data"
   ]
  },
  {
   "cell_type": "code",
   "execution_count": 0,
   "metadata": {
    "application/vnd.databricks.v1+cell": {
     "cellMetadata": {
      "byteLimit": 2048000,
      "rowLimit": 10000
     },
     "inputWidgets": {},
     "nuid": "f0962134-422d-4e0f-9c5e-fdc7584c041d",
     "showTitle": false,
     "tableResultSettingsMap": {},
     "title": ""
    }
   },
   "outputs": [
    {
     "output_type": "display_data",
     "data": {
      "text/html": [
       "<style scoped>\n",
       "  .table-result-container {\n",
       "    max-height: 300px;\n",
       "    overflow: auto;\n",
       "  }\n",
       "  table, th, td {\n",
       "    border: 1px solid black;\n",
       "    border-collapse: collapse;\n",
       "  }\n",
       "  th, td {\n",
       "    padding: 5px;\n",
       "  }\n",
       "  th {\n",
       "    text-align: left;\n",
       "  }\n",
       "</style><div class='table-result-container'><table class='table-result'><thead style='background-color: white'><tr><th>Island</th><th>CulmenLength</th><th>CulmenDepth</th><th>FlipperLength</th><th>BodyMass</th><th>Species</th></tr></thead><tbody><tr><td>Torgersen</td><td>39.1</td><td>18.7</td><td>181.0</td><td>3750.0</td><td>0</td></tr><tr><td>Torgersen</td><td>39.5</td><td>17.4</td><td>186.0</td><td>3800.0</td><td>0</td></tr><tr><td>Torgersen</td><td>40.3</td><td>18.0</td><td>195.0</td><td>3250.0</td><td>0</td></tr><tr><td>Torgersen</td><td>36.7</td><td>19.3</td><td>193.0</td><td>3450.0</td><td>0</td></tr><tr><td>Torgersen</td><td>39.3</td><td>20.6</td><td>190.0</td><td>3650.0</td><td>0</td></tr><tr><td>Torgersen</td><td>38.9</td><td>17.8</td><td>181.0</td><td>3625.0</td><td>0</td></tr><tr><td>Torgersen</td><td>39.2</td><td>19.6</td><td>195.0</td><td>4675.0</td><td>0</td></tr><tr><td>Torgersen</td><td>34.1</td><td>18.1</td><td>193.0</td><td>3475.0</td><td>0</td></tr><tr><td>Torgersen</td><td>42.0</td><td>20.2</td><td>190.0</td><td>4250.0</td><td>0</td></tr><tr><td>Torgersen</td><td>37.8</td><td>17.1</td><td>186.0</td><td>3300.0</td><td>0</td></tr></tbody></table></div>"
      ]
     },
     "metadata": {
      "application/vnd.databricks.v1+output": {
       "addedWidgets": {},
       "aggData": [],
       "aggError": "",
       "aggOverflow": false,
       "aggSchema": [],
       "aggSeriesLimitReached": false,
       "aggType": "",
       "arguments": {},
       "columnCustomDisplayInfos": {},
       "data": [
        [
         "Torgersen",
         39.1,
         18.7,
         181.0,
         3750.0,
         0
        ],
        [
         "Torgersen",
         39.5,
         17.4,
         186.0,
         3800.0,
         0
        ],
        [
         "Torgersen",
         40.3,
         18.0,
         195.0,
         3250.0,
         0
        ],
        [
         "Torgersen",
         36.7,
         19.3,
         193.0,
         3450.0,
         0
        ],
        [
         "Torgersen",
         39.3,
         20.6,
         190.0,
         3650.0,
         0
        ],
        [
         "Torgersen",
         38.9,
         17.8,
         181.0,
         3625.0,
         0
        ],
        [
         "Torgersen",
         39.2,
         19.6,
         195.0,
         4675.0,
         0
        ],
        [
         "Torgersen",
         34.1,
         18.1,
         193.0,
         3475.0,
         0
        ],
        [
         "Torgersen",
         42.0,
         20.2,
         190.0,
         4250.0,
         0
        ],
        [
         "Torgersen",
         37.8,
         17.1,
         186.0,
         3300.0,
         0
        ]
       ],
       "datasetInfos": [],
       "dbfsResultPath": null,
       "isJsonSchema": true,
       "metadata": {},
       "overflow": false,
       "plotOptions": {
        "customPlotOptions": {},
        "displayType": "table",
        "pivotAggregation": null,
        "pivotColumns": null,
        "xColumns": null,
        "yColumns": null
       },
       "removedWidgets": [],
       "schema": [
        {
         "metadata": "{}",
         "name": "Island",
         "type": "\"string\""
        },
        {
         "metadata": "{}",
         "name": "CulmenLength",
         "type": "\"float\""
        },
        {
         "metadata": "{}",
         "name": "CulmenDepth",
         "type": "\"float\""
        },
        {
         "metadata": "{}",
         "name": "FlipperLength",
         "type": "\"float\""
        },
        {
         "metadata": "{}",
         "name": "BodyMass",
         "type": "\"float\""
        },
        {
         "metadata": "{}",
         "name": "Species",
         "type": "\"integer\""
        }
       ],
       "type": "table"
      }
     },
     "output_type": "display_data"
    }
   ],
   "source": [
    "from pyspark.sql.types import *\n",
    "from pyspark.sql.functions import *\n",
    "   \n",
    "data = df.dropna().select(col(\"Island\").astype(\"string\"),\n",
    "                           col(\"CulmenLength\").astype(\"float\"),\n",
    "                          col(\"CulmenDepth\").astype(\"float\"),\n",
    "                          col(\"FlipperLength\").astype(\"float\"),\n",
    "                          col(\"BodyMass\").astype(\"float\"),\n",
    "                          col(\"Species\").astype(\"int\")\n",
    "                          )\n",
    "display(data.limit(10))"
   ]
  },
  {
   "cell_type": "markdown",
   "metadata": {
    "application/vnd.databricks.v1+cell": {
     "cellMetadata": {},
     "inputWidgets": {},
     "nuid": "5ed86698-6a7d-45a2-9532-39d3912487b1",
     "showTitle": false,
     "tableResultSettingsMap": {},
     "title": ""
    }
   },
   "source": [
    "### Split the data\n",
    "\n",
    "We’ll use 70% of the data for training, and hold back 30% for testing."
   ]
  },
  {
   "cell_type": "code",
   "execution_count": 0,
   "metadata": {
    "application/vnd.databricks.v1+cell": {
     "cellMetadata": {
      "byteLimit": 2048000,
      "rowLimit": 10000
     },
     "inputWidgets": {},
     "nuid": "5be973c9-b4fc-4f86-8ff0-1b8e02ed2fd0",
     "showTitle": false,
     "tableResultSettingsMap": {},
     "title": ""
    }
   },
   "outputs": [
    {
     "output_type": "stream",
     "name": "stdout",
     "output_type": "stream",
     "text": [
      "Training Rows: 232  Testing Rows: 110\n"
     ]
    }
   ],
   "source": [
    "splits = data.randomSplit([0.7, 0.3])\n",
    "train = splits[0]\n",
    "test = splits[1]\n",
    "print (\"Training Rows:\", train.count(), \" Testing Rows:\", test.count())"
   ]
  },
  {
   "cell_type": "markdown",
   "metadata": {
    "application/vnd.databricks.v1+cell": {
     "cellMetadata": {},
     "inputWidgets": {},
     "nuid": "4ac8b5b4-030f-4144-9f4c-c16beeb7f727",
     "showTitle": false,
     "tableResultSettingsMap": {},
     "title": ""
    }
   },
   "source": [
    "### Perform feature engineering\n",
    "**Encode categorical features**"
   ]
  },
  {
   "cell_type": "code",
   "execution_count": 0,
   "metadata": {
    "application/vnd.databricks.v1+cell": {
     "cellMetadata": {
      "byteLimit": 2048000,
      "rowLimit": 10000
     },
     "inputWidgets": {},
     "nuid": "cbc06a40-64c2-4ba1-88af-20a25eeccc10",
     "showTitle": false,
     "tableResultSettingsMap": {},
     "title": ""
    }
   },
   "outputs": [
    {
     "output_type": "display_data",
     "data": {
      "text/html": [
       "<style scoped>\n",
       "  .table-result-container {\n",
       "    max-height: 300px;\n",
       "    overflow: auto;\n",
       "  }\n",
       "  table, th, td {\n",
       "    border: 1px solid black;\n",
       "    border-collapse: collapse;\n",
       "  }\n",
       "  th, td {\n",
       "    padding: 5px;\n",
       "  }\n",
       "  th {\n",
       "    text-align: left;\n",
       "  }\n",
       "</style><div class='table-result-container'><table class='table-result'><thead style='background-color: white'><tr><th>CulmenLength</th><th>CulmenDepth</th><th>FlipperLength</th><th>BodyMass</th><th>Species</th><th>IslandIdx</th></tr></thead><tbody><tr><td>34.5</td><td>18.1</td><td>187.0</td><td>2900.0</td><td>0</td><td>0.0</td></tr><tr><td>35.0</td><td>17.9</td><td>190.0</td><td>3450.0</td><td>0</td><td>0.0</td></tr><tr><td>35.0</td><td>17.9</td><td>192.0</td><td>3725.0</td><td>0</td><td>0.0</td></tr><tr><td>35.5</td><td>16.2</td><td>195.0</td><td>3350.0</td><td>0</td><td>0.0</td></tr><tr><td>35.9</td><td>19.2</td><td>189.0</td><td>3800.0</td><td>0</td><td>0.0</td></tr><tr><td>36.4</td><td>17.1</td><td>184.0</td><td>2850.0</td><td>0</td><td>0.0</td></tr><tr><td>37.6</td><td>19.1</td><td>194.0</td><td>3750.0</td><td>0</td><td>0.0</td></tr><tr><td>37.7</td><td>16.0</td><td>183.0</td><td>3075.0</td><td>0</td><td>0.0</td></tr><tr><td>37.7</td><td>18.7</td><td>180.0</td><td>3600.0</td><td>0</td><td>0.0</td></tr><tr><td>37.8</td><td>18.3</td><td>174.0</td><td>3400.0</td><td>0</td><td>0.0</td></tr></tbody></table></div>"
      ]
     },
     "metadata": {
      "application/vnd.databricks.v1+output": {
       "addedWidgets": {},
       "aggData": [],
       "aggError": "",
       "aggOverflow": false,
       "aggSchema": [],
       "aggSeriesLimitReached": false,
       "aggType": "",
       "arguments": {},
       "columnCustomDisplayInfos": {},
       "data": [
        [
         34.5,
         18.1,
         187.0,
         2900.0,
         0,
         0.0
        ],
        [
         35.0,
         17.9,
         190.0,
         3450.0,
         0,
         0.0
        ],
        [
         35.0,
         17.9,
         192.0,
         3725.0,
         0,
         0.0
        ],
        [
         35.5,
         16.2,
         195.0,
         3350.0,
         0,
         0.0
        ],
        [
         35.9,
         19.2,
         189.0,
         3800.0,
         0,
         0.0
        ],
        [
         36.4,
         17.1,
         184.0,
         2850.0,
         0,
         0.0
        ],
        [
         37.6,
         19.1,
         194.0,
         3750.0,
         0,
         0.0
        ],
        [
         37.7,
         16.0,
         183.0,
         3075.0,
         0,
         0.0
        ],
        [
         37.7,
         18.7,
         180.0,
         3600.0,
         0,
         0.0
        ],
        [
         37.8,
         18.3,
         174.0,
         3400.0,
         0,
         0.0
        ]
       ],
       "datasetInfos": [],
       "dbfsResultPath": null,
       "isJsonSchema": true,
       "metadata": {},
       "overflow": false,
       "plotOptions": {
        "customPlotOptions": {},
        "displayType": "table",
        "pivotAggregation": null,
        "pivotColumns": null,
        "xColumns": null,
        "yColumns": null
       },
       "removedWidgets": [],
       "schema": [
        {
         "metadata": "{}",
         "name": "CulmenLength",
         "type": "\"float\""
        },
        {
         "metadata": "{}",
         "name": "CulmenDepth",
         "type": "\"float\""
        },
        {
         "metadata": "{}",
         "name": "FlipperLength",
         "type": "\"float\""
        },
        {
         "metadata": "{}",
         "name": "BodyMass",
         "type": "\"float\""
        },
        {
         "metadata": "{}",
         "name": "Species",
         "type": "\"integer\""
        },
        {
         "metadata": "{\"ml_attr\":{\"vals\":[\"Biscoe\",\"Dream\",\"Torgersen\"],\"type\":\"nominal\",\"name\":\"IslandIdx\"}}",
         "name": "IslandIdx",
         "type": "\"double\""
        }
       ],
       "type": "table"
      }
     },
     "output_type": "display_data"
    }
   ],
   "source": [
    "from pyspark.ml.feature import StringIndexer\n",
    "\n",
    "indexer = StringIndexer(inputCol=\"Island\", outputCol=\"IslandIdx\")\n",
    "indexedData = indexer.fit(train).transform(train).drop(\"Island\")\n",
    "display(indexedData.limit(10))"
   ]
  },
  {
   "cell_type": "markdown",
   "metadata": {
    "application/vnd.databricks.v1+cell": {
     "cellMetadata": {},
     "inputWidgets": {},
     "nuid": "5aba145f-8597-4744-ad98-6f2480090ea0",
     "showTitle": false,
     "tableResultSettingsMap": {},
     "title": ""
    }
   },
   "source": [
    "**Normalize (scale) numeric features**"
   ]
  },
  {
   "cell_type": "code",
   "execution_count": 0,
   "metadata": {
    "application/vnd.databricks.v1+cell": {
     "cellMetadata": {
      "byteLimit": 2048000,
      "rowLimit": 10000
     },
     "inputWidgets": {},
     "nuid": "6cee36aa-3562-43f5-bebf-ccd1069aa123",
     "showTitle": false,
     "tableResultSettingsMap": {},
     "title": ""
    }
   },
   "outputs": [
    {
     "output_type": "display_data",
     "data": {
      "text/html": [
       "<style scoped>\n",
       "  .table-result-container {\n",
       "    max-height: 300px;\n",
       "    overflow: auto;\n",
       "  }\n",
       "  table, th, td {\n",
       "    border: 1px solid black;\n",
       "    border-collapse: collapse;\n",
       "  }\n",
       "  th, td {\n",
       "    padding: 5px;\n",
       "  }\n",
       "  th {\n",
       "    text-align: left;\n",
       "  }\n",
       "</style><div class='table-result-container'><table class='table-result'><thead style='background-color: white'><tr><th>numericFeatures</th><th>normalizedFeatures</th></tr></thead><tbody><tr><td>Map(vectorType -> dense, length -> 4, values -> List(34.5, 18.100000381469727, 187.0, 2900.0))</td><td>Map(vectorType -> dense, length -> 4, values -> List(0.10084038731674229, 0.5952381222696814, 0.2542372881355932, 0.05555555555555555))</td></tr><tr><td>Map(vectorType -> dense, length -> 4, values -> List(35.0, 17.899999618530273, 190.0, 3450.0))</td><td>Map(vectorType -> dense, length -> 4, values -> List(0.12184878798428217, 0.5714285065527647, 0.3050847457627119, 0.20833333333333334))</td></tr><tr><td>Map(vectorType -> dense, length -> 4, values -> List(35.0, 17.899999618530273, 192.0, 3725.0))</td><td>Map(vectorType -> dense, length -> 4, values -> List(0.12184878798428217, 0.5714285065527647, 0.3389830508474576, 0.2847222222222222))</td></tr><tr><td>Map(vectorType -> dense, length -> 4, values -> List(35.5, 16.200000762939453, 195.0, 3350.0))</td><td>Map(vectorType -> dense, length -> 4, values -> List(0.14285718865182206, 0.3690476812202672, 0.3898305084745763, 0.18055555555555555))</td></tr><tr><td>Map(vectorType -> dense, length -> 4, values -> List(35.900001525878906, 19.200000762939453, 189.0, 3800.0))</td><td>Map(vectorType -> dense, length -> 4, values -> List(0.15966397329840482, 0.726190554582076, 0.288135593220339, 0.3055555555555556))</td></tr><tr><td>Map(vectorType -> dense, length -> 4, values -> List(36.400001525878906, 17.100000381469727, 184.0, 2850.0))</td><td>Map(vectorType -> dense, length -> 4, values -> List(0.1806723739659447, 0.47619049781574513, 0.2033898305084746, 0.041666666666666664))</td></tr><tr><td>Map(vectorType -> dense, length -> 4, values -> List(37.599998474121094, 19.100000381469727, 194.0, 3750.0))</td><td>Map(vectorType -> dense, length -> 4, values -> List(0.23109240734293868, 0.7142857467236177, 0.3728813559322034, 0.2916666666666667))</td></tr><tr><td>Map(vectorType -> dense, length -> 4, values -> List(37.70000076293945, 16.0, 183.0, 3075.0))</td><td>Map(vectorType -> dense, length -> 4, values -> List(0.23529418364527296, 0.34523806550335046, 0.1864406779661017, 0.10416666666666667))</td></tr><tr><td>Map(vectorType -> dense, length -> 4, values -> List(37.70000076293945, 18.700000762939453, 180.0, 3600.0))</td><td>Map(vectorType -> dense, length -> 4, values -> List(0.23529418364527296, 0.6666667423551079, 0.13559322033898305, 0.25))</td></tr><tr><td>Map(vectorType -> dense, length -> 4, values -> List(37.79999923706055, 18.299999237060547, 174.0, 3400.0))</td><td>Map(vectorType -> dense, length -> 4, values -> List(0.23949579966623008, 0.6190475109212744, 0.03389830508474576, 0.19444444444444445))</td></tr></tbody></table></div>"
      ]
     },
     "metadata": {
      "application/vnd.databricks.v1+output": {
       "addedWidgets": {},
       "aggData": [],
       "aggError": "",
       "aggOverflow": false,
       "aggSchema": [],
       "aggSeriesLimitReached": false,
       "aggType": "",
       "arguments": {},
       "columnCustomDisplayInfos": {},
       "data": [
        [
         {
          "length": 4,
          "values": [
           34.5,
           18.100000381469727,
           187.0,
           2900.0
          ],
          "vectorType": "dense"
         },
         {
          "length": 4,
          "values": [
           0.10084038731674229,
           0.5952381222696814,
           0.2542372881355932,
           0.05555555555555555
          ],
          "vectorType": "dense"
         }
        ],
        [
         {
          "length": 4,
          "values": [
           35.0,
           17.899999618530273,
           190.0,
           3450.0
          ],
          "vectorType": "dense"
         },
         {
          "length": 4,
          "values": [
           0.12184878798428217,
           0.5714285065527647,
           0.3050847457627119,
           0.20833333333333334
          ],
          "vectorType": "dense"
         }
        ],
        [
         {
          "length": 4,
          "values": [
           35.0,
           17.899999618530273,
           192.0,
           3725.0
          ],
          "vectorType": "dense"
         },
         {
          "length": 4,
          "values": [
           0.12184878798428217,
           0.5714285065527647,
           0.3389830508474576,
           0.2847222222222222
          ],
          "vectorType": "dense"
         }
        ],
        [
         {
          "length": 4,
          "values": [
           35.5,
           16.200000762939453,
           195.0,
           3350.0
          ],
          "vectorType": "dense"
         },
         {
          "length": 4,
          "values": [
           0.14285718865182206,
           0.3690476812202672,
           0.3898305084745763,
           0.18055555555555555
          ],
          "vectorType": "dense"
         }
        ],
        [
         {
          "length": 4,
          "values": [
           35.900001525878906,
           19.200000762939453,
           189.0,
           3800.0
          ],
          "vectorType": "dense"
         },
         {
          "length": 4,
          "values": [
           0.15966397329840482,
           0.726190554582076,
           0.288135593220339,
           0.3055555555555556
          ],
          "vectorType": "dense"
         }
        ],
        [
         {
          "length": 4,
          "values": [
           36.400001525878906,
           17.100000381469727,
           184.0,
           2850.0
          ],
          "vectorType": "dense"
         },
         {
          "length": 4,
          "values": [
           0.1806723739659447,
           0.47619049781574513,
           0.2033898305084746,
           0.041666666666666664
          ],
          "vectorType": "dense"
         }
        ],
        [
         {
          "length": 4,
          "values": [
           37.599998474121094,
           19.100000381469727,
           194.0,
           3750.0
          ],
          "vectorType": "dense"
         },
         {
          "length": 4,
          "values": [
           0.23109240734293868,
           0.7142857467236177,
           0.3728813559322034,
           0.2916666666666667
          ],
          "vectorType": "dense"
         }
        ],
        [
         {
          "length": 4,
          "values": [
           37.70000076293945,
           16.0,
           183.0,
           3075.0
          ],
          "vectorType": "dense"
         },
         {
          "length": 4,
          "values": [
           0.23529418364527296,
           0.34523806550335046,
           0.1864406779661017,
           0.10416666666666667
          ],
          "vectorType": "dense"
         }
        ],
        [
         {
          "length": 4,
          "values": [
           37.70000076293945,
           18.700000762939453,
           180.0,
           3600.0
          ],
          "vectorType": "dense"
         },
         {
          "length": 4,
          "values": [
           0.23529418364527296,
           0.6666667423551079,
           0.13559322033898305,
           0.25
          ],
          "vectorType": "dense"
         }
        ],
        [
         {
          "length": 4,
          "values": [
           37.79999923706055,
           18.299999237060547,
           174.0,
           3400.0
          ],
          "vectorType": "dense"
         },
         {
          "length": 4,
          "values": [
           0.23949579966623008,
           0.6190475109212744,
           0.03389830508474576,
           0.19444444444444445
          ],
          "vectorType": "dense"
         }
        ]
       ],
       "datasetInfos": [],
       "dbfsResultPath": null,
       "isJsonSchema": true,
       "metadata": {},
       "overflow": false,
       "plotOptions": {
        "customPlotOptions": {},
        "displayType": "table",
        "pivotAggregation": null,
        "pivotColumns": null,
        "xColumns": null,
        "yColumns": null
       },
       "removedWidgets": [],
       "schema": [
        {
         "metadata": "{\"ml_attr\":{\"attrs\":{\"numeric\":[{\"idx\":0,\"name\":\"CulmenLength\"},{\"idx\":1,\"name\":\"CulmenDepth\"},{\"idx\":2,\"name\":\"FlipperLength\"},{\"idx\":3,\"name\":\"BodyMass\"}]},\"num_attrs\":4}}",
         "name": "numericFeatures",
         "type": "{\"type\":\"udt\",\"class\":\"org.apache.spark.ml.linalg.VectorUDT\",\"pyClass\":\"pyspark.ml.linalg.VectorUDT\",\"sqlType\":{\"type\":\"struct\",\"fields\":[{\"name\":\"type\",\"type\":\"byte\",\"nullable\":false,\"metadata\":{}},{\"name\":\"size\",\"type\":\"integer\",\"nullable\":true,\"metadata\":{}},{\"name\":\"indices\",\"type\":{\"type\":\"array\",\"elementType\":\"integer\",\"containsNull\":false},\"nullable\":true,\"metadata\":{}},{\"name\":\"values\",\"type\":{\"type\":\"array\",\"elementType\":\"double\",\"containsNull\":false},\"nullable\":true,\"metadata\":{}}]}}"
        },
        {
         "metadata": "{\"ml_attr\":{\"num_attrs\":4}}",
         "name": "normalizedFeatures",
         "type": "{\"type\":\"udt\",\"class\":\"org.apache.spark.ml.linalg.VectorUDT\",\"pyClass\":\"pyspark.ml.linalg.VectorUDT\",\"sqlType\":{\"type\":\"struct\",\"fields\":[{\"name\":\"type\",\"type\":\"byte\",\"nullable\":false,\"metadata\":{}},{\"name\":\"size\",\"type\":\"integer\",\"nullable\":true,\"metadata\":{}},{\"name\":\"indices\",\"type\":{\"type\":\"array\",\"elementType\":\"integer\",\"containsNull\":false},\"nullable\":true,\"metadata\":{}},{\"name\":\"values\",\"type\":{\"type\":\"array\",\"elementType\":\"double\",\"containsNull\":false},\"nullable\":true,\"metadata\":{}}]}}"
        }
       ],
       "type": "table"
      }
     },
     "output_type": "display_data"
    }
   ],
   "source": [
    "from pyspark.ml.feature import VectorAssembler, MinMaxScaler\n",
    "\n",
    "# Create a vector column containing all numeric features\n",
    "numericFeatures = [\"CulmenLength\", \"CulmenDepth\", \"FlipperLength\", \"BodyMass\"]\n",
    "numericColVector = VectorAssembler(inputCols=numericFeatures, outputCol=\"numericFeatures\")\n",
    "vectorizedData = numericColVector.transform(indexedData)\n",
    "   \n",
    "# Use a MinMax scaler to normalize the numeric values in the vector\n",
    "minMax = MinMaxScaler(inputCol = numericColVector.getOutputCol(), outputCol=\"normalizedFeatures\")\n",
    "scaledData = minMax.fit(vectorizedData).transform(vectorizedData)\n",
    "   \n",
    "# Display the data with numeric feature vectors (before and after scaling)\n",
    "compareNumerics = scaledData.select(\"numericFeatures\", \"normalizedFeatures\")\n",
    "display(compareNumerics.limit(10))"
   ]
  },
  {
   "cell_type": "markdown",
   "metadata": {
    "application/vnd.databricks.v1+cell": {
     "cellMetadata": {},
     "inputWidgets": {},
     "nuid": "5583dc91-2aaa-436b-9fbc-280b35d8d19c",
     "showTitle": false,
     "tableResultSettingsMap": {},
     "title": ""
    }
   },
   "source": [
    "The **numericFeatures** column in the results contains a vector for each row. The vector includes four unscaled numeric values (the original measurements of the penguin). You can use the ▸ toggle to see the discrete values more clearly.\n",
    "\n",
    "The **normalizedFeatures** column also contains a vector for each penguin observation, but this time the values in the vector are normalized to a relative scale based on the minimum and maximum values for each measurement."
   ]
  },
  {
   "cell_type": "markdown",
   "metadata": {
    "application/vnd.databricks.v1+cell": {
     "cellMetadata": {},
     "inputWidgets": {},
     "nuid": "33ef34ca-8133-4d08-bc1e-f17c56abcf14",
     "showTitle": false,
     "tableResultSettingsMap": {},
     "title": ""
    }
   },
   "source": [
    "### Prepare features and labels for training"
   ]
  },
  {
   "cell_type": "code",
   "execution_count": 0,
   "metadata": {
    "application/vnd.databricks.v1+cell": {
     "cellMetadata": {
      "byteLimit": 2048000,
      "rowLimit": 10000
     },
     "inputWidgets": {},
     "nuid": "5fb3c5f6-9651-4775-aad2-57eeebf1bea1",
     "showTitle": false,
     "tableResultSettingsMap": {},
     "title": ""
    }
   },
   "outputs": [
    {
     "output_type": "display_data",
     "data": {
      "text/html": [
       "<style scoped>\n",
       "  .table-result-container {\n",
       "    max-height: 300px;\n",
       "    overflow: auto;\n",
       "  }\n",
       "  table, th, td {\n",
       "    border: 1px solid black;\n",
       "    border-collapse: collapse;\n",
       "  }\n",
       "  th, td {\n",
       "    padding: 5px;\n",
       "  }\n",
       "  th {\n",
       "    text-align: left;\n",
       "  }\n",
       "</style><div class='table-result-container'><table class='table-result'><thead style='background-color: white'><tr><th>features</th><th>label</th></tr></thead><tbody><tr><td>Map(vectorType -> dense, length -> 5, values -> List(0.0, 0.10084038731674229, 0.5952381222696814, 0.2542372881355932, 0.05555555555555555))</td><td>0</td></tr><tr><td>Map(vectorType -> dense, length -> 5, values -> List(0.0, 0.12184878798428217, 0.5714285065527647, 0.3050847457627119, 0.20833333333333334))</td><td>0</td></tr><tr><td>Map(vectorType -> dense, length -> 5, values -> List(0.0, 0.12184878798428217, 0.5714285065527647, 0.3389830508474576, 0.2847222222222222))</td><td>0</td></tr><tr><td>Map(vectorType -> dense, length -> 5, values -> List(0.0, 0.14285718865182206, 0.3690476812202672, 0.3898305084745763, 0.18055555555555555))</td><td>0</td></tr><tr><td>Map(vectorType -> dense, length -> 5, values -> List(0.0, 0.15966397329840482, 0.726190554582076, 0.288135593220339, 0.3055555555555556))</td><td>0</td></tr><tr><td>Map(vectorType -> dense, length -> 5, values -> List(0.0, 0.1806723739659447, 0.47619049781574513, 0.2033898305084746, 0.041666666666666664))</td><td>0</td></tr><tr><td>Map(vectorType -> dense, length -> 5, values -> List(0.0, 0.23109240734293868, 0.7142857467236177, 0.3728813559322034, 0.2916666666666667))</td><td>0</td></tr><tr><td>Map(vectorType -> dense, length -> 5, values -> List(0.0, 0.23529418364527296, 0.34523806550335046, 0.1864406779661017, 0.10416666666666667))</td><td>0</td></tr><tr><td>Map(vectorType -> dense, length -> 5, values -> List(0.0, 0.23529418364527296, 0.6666667423551079, 0.13559322033898305, 0.25))</td><td>0</td></tr><tr><td>Map(vectorType -> dense, length -> 5, values -> List(0.0, 0.23949579966623008, 0.6190475109212744, 0.03389830508474576, 0.19444444444444445))</td><td>0</td></tr></tbody></table></div>"
      ]
     },
     "metadata": {
      "application/vnd.databricks.v1+output": {
       "addedWidgets": {},
       "aggData": [],
       "aggError": "",
       "aggOverflow": false,
       "aggSchema": [],
       "aggSeriesLimitReached": false,
       "aggType": "",
       "arguments": {},
       "columnCustomDisplayInfos": {},
       "data": [
        [
         {
          "length": 5,
          "values": [
           0.0,
           0.10084038731674229,
           0.5952381222696814,
           0.2542372881355932,
           0.05555555555555555
          ],
          "vectorType": "dense"
         },
         0
        ],
        [
         {
          "length": 5,
          "values": [
           0.0,
           0.12184878798428217,
           0.5714285065527647,
           0.3050847457627119,
           0.20833333333333334
          ],
          "vectorType": "dense"
         },
         0
        ],
        [
         {
          "length": 5,
          "values": [
           0.0,
           0.12184878798428217,
           0.5714285065527647,
           0.3389830508474576,
           0.2847222222222222
          ],
          "vectorType": "dense"
         },
         0
        ],
        [
         {
          "length": 5,
          "values": [
           0.0,
           0.14285718865182206,
           0.3690476812202672,
           0.3898305084745763,
           0.18055555555555555
          ],
          "vectorType": "dense"
         },
         0
        ],
        [
         {
          "length": 5,
          "values": [
           0.0,
           0.15966397329840482,
           0.726190554582076,
           0.288135593220339,
           0.3055555555555556
          ],
          "vectorType": "dense"
         },
         0
        ],
        [
         {
          "length": 5,
          "values": [
           0.0,
           0.1806723739659447,
           0.47619049781574513,
           0.2033898305084746,
           0.041666666666666664
          ],
          "vectorType": "dense"
         },
         0
        ],
        [
         {
          "length": 5,
          "values": [
           0.0,
           0.23109240734293868,
           0.7142857467236177,
           0.3728813559322034,
           0.2916666666666667
          ],
          "vectorType": "dense"
         },
         0
        ],
        [
         {
          "length": 5,
          "values": [
           0.0,
           0.23529418364527296,
           0.34523806550335046,
           0.1864406779661017,
           0.10416666666666667
          ],
          "vectorType": "dense"
         },
         0
        ],
        [
         {
          "length": 5,
          "values": [
           0.0,
           0.23529418364527296,
           0.6666667423551079,
           0.13559322033898305,
           0.25
          ],
          "vectorType": "dense"
         },
         0
        ],
        [
         {
          "length": 5,
          "values": [
           0.0,
           0.23949579966623008,
           0.6190475109212744,
           0.03389830508474576,
           0.19444444444444445
          ],
          "vectorType": "dense"
         },
         0
        ]
       ],
       "datasetInfos": [],
       "dbfsResultPath": null,
       "isJsonSchema": true,
       "metadata": {},
       "overflow": false,
       "plotOptions": {
        "customPlotOptions": {},
        "displayType": "table",
        "pivotAggregation": null,
        "pivotColumns": null,
        "xColumns": null,
        "yColumns": null
       },
       "removedWidgets": [],
       "schema": [
        {
         "metadata": "{\"ml_attr\":{\"attrs\":{\"numeric\":[{\"idx\":1,\"name\":\"normalizedFeatures_0\"},{\"idx\":2,\"name\":\"normalizedFeatures_1\"},{\"idx\":3,\"name\":\"normalizedFeatures_2\"},{\"idx\":4,\"name\":\"normalizedFeatures_3\"}],\"nominal\":[{\"vals\":[\"Biscoe\",\"Dream\",\"Torgersen\"],\"idx\":0,\"name\":\"IslandIdx\"}]},\"num_attrs\":5}}",
         "name": "features",
         "type": "{\"type\":\"udt\",\"class\":\"org.apache.spark.ml.linalg.VectorUDT\",\"pyClass\":\"pyspark.ml.linalg.VectorUDT\",\"sqlType\":{\"type\":\"struct\",\"fields\":[{\"name\":\"type\",\"type\":\"byte\",\"nullable\":false,\"metadata\":{}},{\"name\":\"size\",\"type\":\"integer\",\"nullable\":true,\"metadata\":{}},{\"name\":\"indices\",\"type\":{\"type\":\"array\",\"elementType\":\"integer\",\"containsNull\":false},\"nullable\":true,\"metadata\":{}},{\"name\":\"values\",\"type\":{\"type\":\"array\",\"elementType\":\"double\",\"containsNull\":false},\"nullable\":true,\"metadata\":{}}]}}"
        },
        {
         "metadata": "{}",
         "name": "label",
         "type": "\"integer\""
        }
       ],
       "type": "table"
      }
     },
     "output_type": "display_data"
    }
   ],
   "source": [
    "featVect = VectorAssembler(inputCols=[\"IslandIdx\", \"normalizedFeatures\"], outputCol=\"featuresVector\")\n",
    "preparedData = featVect.transform(scaledData)[col(\"featuresVector\").alias(\"features\"), col(\"Species\").alias(\"label\")]\n",
    "display(preparedData.limit(10))"
   ]
  },
  {
   "cell_type": "markdown",
   "metadata": {
    "application/vnd.databricks.v1+cell": {
     "cellMetadata": {},
     "inputWidgets": {},
     "nuid": "7ef772ad-8457-4ece-800f-b29794fdd9ba",
     "showTitle": false,
     "tableResultSettingsMap": {},
     "title": ""
    }
   },
   "source": [
    "The **features** vector contains five values (the encoded island and the normalized culmen length, culmen depth, flipper length, and body mass). The label contains a simple integer code that indicates the class of penguin species."
   ]
  },
  {
   "cell_type": "markdown",
   "metadata": {
    "application/vnd.databricks.v1+cell": {
     "cellMetadata": {},
     "inputWidgets": {},
     "nuid": "7b050fb4-5b61-479e-890f-79a20c2e856d",
     "showTitle": false,
     "tableResultSettingsMap": {},
     "title": ""
    }
   },
   "source": [
    "### Train a machine learning model\n",
    "\n",
    "Models are trained using an algorithm that tries to establish a relationship between the features and labels.<br>\n",
    "Since in this case you want to train a model that predicts a category of class , you need to use a classification algorithm.<br>\n",
    "\n",
    "To train the model, you will fit the logistic regression algorithm to the training data."
   ]
  },
  {
   "cell_type": "code",
   "execution_count": 0,
   "metadata": {
    "application/vnd.databricks.v1+cell": {
     "cellMetadata": {
      "byteLimit": 2048000,
      "rowLimit": 10000
     },
     "inputWidgets": {},
     "nuid": "4ce5053b-a9f6-4c5f-a192-5d89d8016cc7",
     "showTitle": false,
     "tableResultSettingsMap": {},
     "title": ""
    }
   },
   "outputs": [
    {
     "output_type": "stream",
     "name": "stdout",
     "output_type": "stream",
     "text": [
      "Model trained!\n"
     ]
    }
   ],
   "source": [
    "from pyspark.ml.classification import LogisticRegression\n",
    "\n",
    "lr = LogisticRegression(labelCol=\"label\", featuresCol=\"features\", maxIter=10, regParam=0.3)\n",
    "model = lr.fit(preparedData)\n",
    "print (\"Model trained!\")"
   ]
  },
  {
   "cell_type": "markdown",
   "metadata": {
    "application/vnd.databricks.v1+cell": {
     "cellMetadata": {},
     "inputWidgets": {},
     "nuid": "119d505b-f1a7-4a3b-9dd7-9767636f832e",
     "showTitle": false,
     "tableResultSettingsMap": {},
     "title": ""
    }
   },
   "source": [
    "### Test the model\n",
    "\n",
    "Now that you have a trained model, you can test it with the data you held back. Before you can do this, you need to perform the same feature engineering transformations to the test data as you applied to the training data"
   ]
  },
  {
   "cell_type": "code",
   "execution_count": 0,
   "metadata": {
    "application/vnd.databricks.v1+cell": {
     "cellMetadata": {
      "byteLimit": 2048000,
      "rowLimit": 10000
     },
     "inputWidgets": {},
     "nuid": "3f9c5ae1-1b22-49c6-86a0-29cd03e168a8",
     "showTitle": false,
     "tableResultSettingsMap": {},
     "title": ""
    }
   },
   "outputs": [
    {
     "output_type": "display_data",
     "data": {
      "text/html": [
       "<style scoped>\n",
       "  .table-result-container {\n",
       "    max-height: 300px;\n",
       "    overflow: auto;\n",
       "  }\n",
       "  table, th, td {\n",
       "    border: 1px solid black;\n",
       "    border-collapse: collapse;\n",
       "  }\n",
       "  th, td {\n",
       "    padding: 5px;\n",
       "  }\n",
       "  th {\n",
       "    text-align: left;\n",
       "  }\n",
       "</style><div class='table-result-container'><table class='table-result'><thead style='background-color: white'><tr><th>features</th><th>probability</th><th>prediction</th><th>trueLabel</th></tr></thead><tbody><tr><td>Map(vectorType -> dense, length -> 5, values -> List(0.0, 0.08301889671469634, 0.7215189109378106, 0.2037037037037037, 0.296875))</td><td>Map(vectorType -> dense, length -> 3, values -> List(0.8725526455576519, 0.05256123761421712, 0.07488611682813091))</td><td>0</td><td>0</td></tr><tr><td>Map(vectorType -> dense, length -> 5, values -> List(0.0, 0.09811329391767394, 0.4683543723127361, 0.16666666666666666, 0.09375))</td><td>Map(vectorType -> dense, length -> 3, values -> List(0.8509166775972573, 0.06307135535758125, 0.08601196704516141))</td><td>0</td><td>0</td></tr><tr><td>Map(vectorType -> dense, length -> 5, values -> List(0.0, 0.1283019443727889, 0.43037978809358224, 0.09259259259259259, 0.0))</td><td>Map(vectorType -> dense, length -> 3, values -> List(0.8525456273739734, 0.05153240974231355, 0.09592196288371302))</td><td>0</td><td>0</td></tr><tr><td>Map(vectorType -> dense, length -> 5, values -> List(0.0, 0.16981132075471697, 0.48101264753129347, 0.16666666666666666, 0.234375))</td><td>Map(vectorType -> dense, length -> 3, values -> List(0.8027768072037349, 0.09423485687015784, 0.1029883359261072))</td><td>0</td><td>0</td></tr><tr><td>Map(vectorType -> dense, length -> 5, values -> List(0.0, 0.17735851935620578, 0.8607594554689053, 0.25925925925925924, 0.4375))</td><td>Map(vectorType -> dense, length -> 3, values -> List(0.8301686404006263, 0.06894069815809299, 0.10089066144128057))</td><td>0</td><td>0</td></tr><tr><td>Map(vectorType -> dense, length -> 5, values -> List(0.0, 0.18867924528301885, 0.48101264753129347, 0.09259259259259259, 0.1015625))</td><td>Map(vectorType -> dense, length -> 3, values -> List(0.8235891407374437, 0.06343954671837863, 0.11297131254417773))</td><td>0</td><td>0</td></tr><tr><td>Map(vectorType -> dense, length -> 5, values -> List(0.0, 0.24528301886792453, 0.9493671405622887, 0.2777777777777778, 0.328125))</td><td>Map(vectorType -> dense, length -> 3, values -> List(0.8117819385227097, 0.05314979078383194, 0.1350682706934584))</td><td>0</td><td>0</td></tr><tr><td>Map(vectorType -> dense, length -> 5, values -> List(0.0, 0.279245340599204, 0.5949366416252734, 0.2037037037037037, 0.109375))</td><td>Map(vectorType -> dense, length -> 3, values -> List(0.7635579192075426, 0.07506086829211074, 0.16138121250034662))</td><td>0</td><td>0</td></tr><tr><td>Map(vectorType -> dense, length -> 5, values -> List(0.0, 0.279245340599204, 0.7215189109378106, 0.07407407407407407, 0.34375))</td><td>Map(vectorType -> dense, length -> 3, values -> List(0.7993068905557995, 0.06510997294883684, 0.13558313649536377))</td><td>0</td><td>0</td></tr><tr><td>Map(vectorType -> dense, length -> 5, values -> List(0.0, 0.32075471698113206, 0.6075949168438307, 0.2962962962962963, 0.34375))</td><td>Map(vectorType -> dense, length -> 3, values -> List(0.6807784267188504, 0.15128180967862878, 0.16793976360252086))</td><td>0</td><td>0</td></tr><tr><td>Map(vectorType -> dense, length -> 5, values -> List(0.0, 0.36226423731390034, 0.06329113465626864, 0.5925925925925926, 0.34375))</td><td>Map(vectorType -> dense, length -> 3, values -> List(0.2632041335941681, 0.6265248210834253, 0.11027104532240649))</td><td>1</td><td>1</td></tr><tr><td>Map(vectorType -> dense, length -> 5, values -> List(0.0, 0.36226423731390034, 0.6455695010629846, 0.37037037037037035, 0.3828125))</td><td>Map(vectorType -> dense, length -> 3, values -> List(0.6253533087639459, 0.1849446503308194, 0.18970204090523482))</td><td>0</td><td>0</td></tr><tr><td>Map(vectorType -> dense, length -> 5, values -> List(0.0, 0.3660377646392246, 0.12658226931253727, 0.611111111111111, 0.578125))</td><td>Map(vectorType -> dense, length -> 3, values -> List(0.20518692250069298, 0.7147329507485777, 0.0800801267507292))</td><td>1</td><td>1</td></tr><tr><td>Map(vectorType -> dense, length -> 5, values -> List(0.0, 0.38490568916752654, 0.10126583959368164, 0.5925925925925926, 0.5390625))</td><td>Map(vectorType -> dense, length -> 3, values -> List(0.20517994870593234, 0.7078599285265647, 0.08696012276750303))</td><td>1</td><td>1</td></tr><tr><td>Map(vectorType -> dense, length -> 5, values -> List(0.0, 0.3962264150943396, 0.08860756437512426, 0.7592592592592592, 0.640625))</td><td>Map(vectorType -> dense, length -> 3, values -> List(0.11716412674090218, 0.8253820853044196, 0.05745378795467832))</td><td>1</td><td>1</td></tr><tr><td>Map(vectorType -> dense, length -> 5, values -> List(0.0, 0.4113208122973172, 0.050632980155970404, 0.5925925925925926, 0.46875))</td><td>Map(vectorType -> dense, length -> 3, values -> List(0.19370345210122394, 0.7113383674359776, 0.0949581804627986))</td><td>1</td><td>1</td></tr><tr><td>Map(vectorType -> dense, length -> 5, values -> List(0.0, 0.42641520950029477, 0.5189872317504474, 0.7962962962962963, 0.75))</td><td>Map(vectorType -> dense, length -> 3, values -> List(0.2092684574760096, 0.6863086234666668, 0.10442291905732366))</td><td>1</td><td>1</td></tr><tr><td>Map(vectorType -> dense, length -> 5, values -> List(0.0, 0.4301887368256191, 0.13924054453109466, 0.7407407407407407, 0.390625))</td><td>Map(vectorType -> dense, length -> 3, values -> List(0.18556996432422526, 0.702617801330932, 0.11181223434484257))</td><td>1</td><td>1</td></tr><tr><td>Map(vectorType -> dense, length -> 5, values -> List(0.0, 0.4452831340285967, 0.01265827521855739, 0.6851851851851851, 0.703125))</td><td>Map(vectorType -> dense, length -> 3, values -> List(0.09176794606084882, 0.8567477841384022, 0.05148426980074894))</td><td>1</td><td>1</td></tr><tr><td>Map(vectorType -> dense, length -> 5, values -> List(0.0, 0.4452831340285967, 0.07594940987482603, 0.6666666666666666, 0.59375))</td><td>Map(vectorType -> dense, length -> 3, values -> List(0.13317514726835966, 0.7912257435989437, 0.0755991091326965))</td><td>1</td><td>1</td></tr><tr><td>Map(vectorType -> dense, length -> 5, values -> List(0.0, 0.45660385995540975, 0.20253167918736328, 0.6666666666666666, 0.734375))</td><td>Map(vectorType -> dense, length -> 3, values -> List(0.13537203296780334, 0.7903549769174457, 0.07427299011475105))</td><td>1</td><td>1</td></tr><tr><td>Map(vectorType -> dense, length -> 5, values -> List(0.0, 0.45660385995540975, 0.40506323765646746, 0.8703703703703703, 0.96875))</td><td>Map(vectorType -> dense, length -> 3, values -> List(0.09151107737281591, 0.8566343839112028, 0.051854538715981294))</td><td>1</td><td>1</td></tr><tr><td>Map(vectorType -> dense, length -> 5, values -> List(0.0, 0.4603773872807341, 0.07594940987482603, 0.5925925925925926, 0.421875))</td><td>Map(vectorType -> dense, length -> 3, values -> List(0.19382737894597468, 0.6886339440534609, 0.11753867700056442))</td><td>1</td><td>1</td></tr><tr><td>Map(vectorType -> dense, length -> 5, values -> List(0.0, 0.4716981132075472, 0.8987340396880591, 0.2777777777777778, 0.546875))</td><td>Map(vectorType -> dense, length -> 3, values -> List(0.6194126940530655, 0.13783523605604997, 0.24275206989088463))</td><td>0</td><td>0</td></tr><tr><td>Map(vectorType -> dense, length -> 5, values -> List(0.0, 0.49056603773584906, 0.0, 0.6481481481481481, 0.515625))</td><td>Map(vectorType -> dense, length -> 3, values -> List(0.11910922255568397, 0.7969439090377164, 0.08394686840659964))</td><td>1</td><td>1</td></tr><tr><td>Map(vectorType -> dense, length -> 5, values -> List(0.0, 0.49056603773584906, 0.24050638412477632, 0.7222222222222222, 0.703125))</td><td>Map(vectorType -> dense, length -> 3, values -> List(0.12637186859619381, 0.7900269490568468, 0.08360118234695935))</td><td>1</td><td>1</td></tr><tr><td>Map(vectorType -> dense, length -> 5, values -> List(0.0, 0.4943397090120135, 0.21518983368766154, 0.8333333333333333, 0.765625))</td><td>Map(vectorType -> dense, length -> 3, values -> List(0.08308607453597484, 0.8569247867677711, 0.05998913869625405))</td><td>1</td><td>1</td></tr><tr><td>Map(vectorType -> dense, length -> 5, values -> List(0.0, 0.5056604349388266, 0.1518986990313929, 0.7592592592592592, 0.640625))</td><td>Map(vectorType -> dense, length -> 3, values -> List(0.10238665595704805, 0.8201211871606159, 0.07749215688233604))</td><td>1</td><td>1</td></tr><tr><td>Map(vectorType -> dense, length -> 5, values -> List(0.0, 0.5094339622641509, 0.12658226931253727, 0.6296296296296295, 0.625))</td><td>Map(vectorType -> dense, length -> 3, values -> List(0.13005719133413282, 0.7788709059546819, 0.09107190271118527))</td><td>1</td><td>1</td></tr><tr><td>Map(vectorType -> dense, length -> 5, values -> List(0.0, 0.5132076335403154, 0.26582281384363193, 0.7962962962962963, 0.734375))</td><td>Map(vectorType -> dense, length -> 3, values -> List(0.10203768760554148, 0.8206845448842616, 0.07727776751019708))</td><td>1</td><td>1</td></tr><tr><td>Map(vectorType -> dense, length -> 5, values -> List(0.0, 0.5358490853939416, 0.26582281384363193, 0.8518518518518519, 0.75))</td><td>Map(vectorType -> dense, length -> 3, values -> List(0.08273053014259296, 0.8457930179932936, 0.07147645186411336))</td><td>1</td><td>1</td></tr><tr><td>Map(vectorType -> dense, length -> 5, values -> List(0.0, 0.5433962839954304, 0.10126583959368164, 0.6666666666666666, 0.6328125))</td><td>Map(vectorType -> dense, length -> 3, values -> List(0.102886693410694, 0.8115771927419521, 0.08553611384735388))</td><td>1</td><td>1</td></tr><tr><td>Map(vectorType -> dense, length -> 5, values -> List(0.0, 0.5433962839954304, 0.22784810890621893, 0.7777777777777777, 0.65625))</td><td>Map(vectorType -> dense, length -> 3, values -> List(0.10298733071927577, 0.8067408894377918, 0.09027177984293225))</td><td>1</td><td>1</td></tr><tr><td>Map(vectorType -> dense, length -> 5, values -> List(0.0, 0.5471698113207547, 0.16455697424995028, 0.7222222222222222, 0.796875))</td><td>Map(vectorType -> dense, length -> 3, values -> List(0.07827110718023932, 0.8576150860803277, 0.064113806739433))</td><td>1</td><td>1</td></tr><tr><td>Map(vectorType -> dense, length -> 5, values -> List(0.0, 0.5547170099222435, 0.22784810890621893, 0.7222222222222222, 0.875))</td><td>Map(vectorType -> dense, length -> 3, values -> List(0.07746476700923997, 0.8598522148878179, 0.06268301810294202))</td><td>1</td><td>1</td></tr><tr><td>Map(vectorType -> dense, length -> 5, values -> List(0.0, 0.5660377358490566, 0.24050638412477632, 0.611111111111111, 0.828125))</td><td>Map(vectorType -> dense, length -> 3, values -> List(0.10764166924412724, 0.8077188610534686, 0.08463946970240419))</td><td>1</td><td>1</td></tr><tr><td>Map(vectorType -> dense, length -> 5, values -> List(0.0, 0.569811407125221, 0.13924054453109466, 0.6296296296296295, 0.546875))</td><td>Map(vectorType -> dense, length -> 3, values -> List(0.12965558641215327, 0.7509970753086637, 0.11934733827918297))</td><td>1</td><td>1</td></tr><tr><td>Map(vectorType -> dense, length -> 5, values -> List(0.0, 0.569811407125221, 0.30379751878104494, 0.8333333333333333, 0.703125))</td><td>Map(vectorType -> dense, length -> 3, values -> List(0.09326817737226875, 0.8146753286218975, 0.09205649400583371))</td><td>1</td><td>1</td></tr><tr><td>Map(vectorType -> dense, length -> 5, values -> List(0.0, 0.5773586057267098, 0.17721524946850767, 0.6851851851851851, 0.9375))</td><td>Map(vectorType -> dense, length -> 3, values -> List(0.06286133144752355, 0.8836246119264163, 0.05351405662606024))</td><td>1</td><td>1</td></tr><tr><td>Map(vectorType -> dense, length -> 5, values -> List(0.0, 0.5811321330520341, 0.11392411481223903, 0.8148148148148148, 0.765625))</td><td>Map(vectorType -> dense, length -> 3, values -> List(0.05407382661329564, 0.8898080495362908, 0.05611812385041355))</td><td>1</td><td>1</td></tr><tr><td>Map(vectorType -> dense, length -> 5, values -> List(0.0, 0.5811321330520341, 0.22784810890621893, 0.7962962962962963, 0.625))</td><td>Map(vectorType -> dense, length -> 3, values -> List(0.09444663287094646, 0.8063341521065177, 0.09921921502253586))</td><td>1</td><td>1</td></tr><tr><td>Map(vectorType -> dense, length -> 5, values -> List(0.0, 0.600000057580336, 0.36708865343731356, 0.7407407407407407, 0.84375))</td><td>Map(vectorType -> dense, length -> 3, values -> List(0.09601257084903367, 0.8108681649998066, 0.09311926415115974))</td><td>1</td><td>1</td></tr><tr><td>Map(vectorType -> dense, length -> 5, values -> List(0.0, 0.6037735849056604, 0.16455697424995028, 0.6666666666666666, 0.5546875))</td><td>Map(vectorType -> dense, length -> 3, values -> List(0.11461331999285512, 0.7615281728004958, 0.12385850720664898))</td><td>1</td><td>1</td></tr><tr><td>Map(vectorType -> dense, length -> 5, values -> List(0.0, 0.6188679821086379, 0.36708865343731356, 0.8888888888888888, 0.875))</td><td>Map(vectorType -> dense, length -> 3, values -> List(0.06195986046041062, 0.8657227027785304, 0.07231743676105905))</td><td>1</td><td>1</td></tr><tr><td>Map(vectorType -> dense, length -> 5, values -> List(0.0, 0.6188679821086379, 0.37974692865587095, 0.9814814814814814, 0.921875))</td><td>Map(vectorType -> dense, length -> 3, values -> List(0.047181050229561296, 0.8946681275918493, 0.058150822178589405))</td><td>1</td><td>1</td></tr><tr><td>Map(vectorType -> dense, length -> 5, values -> List(0.0, 0.6226415094339622, 0.22784810890621893, 0.7407407407407407, 0.59375))</td><td>Map(vectorType -> dense, length -> 3, values -> List(0.10042124000306765, 0.7786242941158186, 0.12095446588111393))</td><td>1</td><td>1</td></tr><tr><td>Map(vectorType -> dense, length -> 5, values -> List(0.0, 0.6226415094339622, 0.35443037821875617, 0.9074074074074073, 0.890625))</td><td>Map(vectorType -> dense, length -> 3, values -> List(0.05540097779213804, 0.8781419683838528, 0.06645705382400925))</td><td>1</td><td>1</td></tr><tr><td>Map(vectorType -> dense, length -> 5, values -> List(0.0, 0.6452831052384286, 0.13924054453109466, 0.7777777777777777, 0.890625))</td><td>Map(vectorType -> dense, length -> 3, values -> List(0.04182631444928478, 0.9061746174893445, 0.05199906806137081))</td><td>1</td><td>1</td></tr><tr><td>Map(vectorType -> dense, length -> 5, values -> List(0.0, 0.6528303038399175, 0.31645567328134316, 0.8518518518518519, 0.90625))</td><td>Map(vectorType -> dense, length -> 3, values -> List(0.05157351446565629, 0.8813174769858894, 0.06710900854845421))</td><td>1</td><td>1</td></tr><tr><td>Map(vectorType -> dense, length -> 5, values -> List(0.0, 0.6641510297667306, 0.22784810890621893, 0.8703703703703703, 0.84375))</td><td>Map(vectorType -> dense, length -> 3, values -> List(0.04330205875700712, 0.8941642099539776, 0.0625337312890153))</td><td>1</td><td>1</td></tr><tr><td>Map(vectorType -> dense, length -> 5, values -> List(0.0, 0.6679245570920548, 0.31645567328134316, 0.9259259259259258, 0.734375))</td><td>Map(vectorType -> dense, length -> 3, values -> List(0.05684334158439153, 0.8541068347450681, 0.08904982367054035))</td><td>1</td><td>1</td></tr><tr><td>Map(vectorType -> dense, length -> 5, values -> List(0.0, 0.6943396802218454, 0.39240496243791007, 1.0, 0.828125))</td><td>Map(vectorType -> dense, length -> 3, values -> List(0.045104295037015144, 0.875529817184779, 0.07936588777820575))</td><td>1</td><td>1</td></tr><tr><td>Map(vectorType -> dense, length -> 5, values -> List(0.0, 0.7207548033516362, 0.49367092274985086, 0.9629629629629629, 0.796875))</td><td>Map(vectorType -> dense, length -> 3, values -> List(0.061191003446353864, 0.8236224850038613, 0.1151865115497848))</td><td>1</td><td>1</td></tr><tr><td>Map(vectorType -> dense, length -> 5, values -> List(0.0, 1.0, 0.48101264753129347, 1.0, 1.0))</td><td>Map(vectorType -> dense, length -> 3, values -> List(0.017399082375841864, 0.8841772734643951, 0.09842364415976321))</td><td>1</td><td>1</td></tr><tr><td>Map(vectorType -> dense, length -> 5, values -> List(1.0, 0.0, 0.36708865343731356, 0.037037037037037035, 0.015625))</td><td>Map(vectorType -> dense, length -> 3, values -> List(0.9160682089558897, 0.023951135934613337, 0.05998065510949698))</td><td>0</td><td>0</td></tr><tr><td>Map(vectorType -> dense, length -> 5, values -> List(1.0, 0.09433962264150943, 0.5443037821875621, 0.2777777777777778, 0.1015625))</td><td>Map(vectorType -> dense, length -> 3, values -> List(0.86517702744634, 0.04055505510841485, 0.09426791744524525))</td><td>0</td><td>0</td></tr><tr><td>Map(vectorType -> dense, length -> 5, values -> List(1.0, 0.10943401984448703, 0.6708860515000994, 0.18518518518518517, 0.078125))</td><td>Map(vectorType -> dense, length -> 3, values -> List(0.8838852480446001, 0.022863962136623384, 0.09325078981877648))</td><td>0</td><td>0</td></tr><tr><td>Map(vectorType -> dense, length -> 5, values -> List(1.0, 0.1433963415757665, 0.6835443267186567, 0.24074074074074073, 0.203125))</td><td>Map(vectorType -> dense, length -> 3, values -> List(0.860602826413483, 0.03552848292365456, 0.10386869066286257))</td><td>0</td><td>0</td></tr><tr><td>Map(vectorType -> dense, length -> 5, values -> List(1.0, 0.1584905948279039, 0.4556960970941787, 0.2962962962962963, 0.046875))</td><td>Map(vectorType -> dense, length -> 3, values -> List(0.8221761479570301, 0.05475542005543413, 0.12306843198753578))</td><td>0</td><td>0</td></tr><tr><td>Map(vectorType -> dense, length -> 5, values -> List(1.0, 0.1584905948279039, 0.5822783664067159, 0.2777777777777778, 0.15625))</td><td>Map(vectorType -> dense, length -> 3, values -> List(0.8373403643532317, 0.047386875736337354, 0.11527275991043102))</td><td>0</td><td>0</td></tr><tr><td>Map(vectorType -> dense, length -> 5, values -> List(1.0, 0.16603779342939268, 0.6708860515000994, 0.42592592592592593, 0.5078125))</td><td>Map(vectorType -> dense, length -> 3, values -> List(0.782595945116333, 0.10967660599558604, 0.10772744888808106))</td><td>0</td><td>0</td></tr><tr><td>Map(vectorType -> dense, length -> 5, values -> List(1.0, 0.18867924528301885, 0.5569620574061195, 0.2037037037037037, 0.1796875))</td><td>Map(vectorType -> dense, length -> 3, values -> List(0.8309927428842698, 0.0474502631685102, 0.12155699394722))</td><td>0</td><td>0</td></tr><tr><td>Map(vectorType -> dense, length -> 5, values -> List(1.0, 0.18867924528301885, 0.6835443267186567, 0.25925925925925924, 0.265625))</td><td>Map(vectorType -> dense, length -> 3, values -> List(0.8332862273429072, 0.046660513955755836, 0.1200532587013369))</td><td>0</td><td>0</td></tr><tr><td>Map(vectorType -> dense, length -> 5, values -> List(1.0, 0.19622644388450766, 0.7594937365934827, 0.24074074074074073, 0.34375))</td><td>Map(vectorType -> dense, length -> 3, values -> List(0.8388978135941824, 0.04380818295509774, 0.11729400345071979))</td><td>0</td><td>0</td></tr><tr><td>Map(vectorType -> dense, length -> 5, values -> List(1.0, 0.23018876561578713, 0.9999999999999999, 0.37037037037037035, 0.40625))</td><td>Map(vectorType -> dense, length -> 3, values -> List(0.8245410770988285, 0.03920230294266663, 0.13625661995850485))</td><td>0</td><td>0</td></tr><tr><td>Map(vectorType -> dense, length -> 5, values -> List(1.0, 0.24150949154260024, 0.5822783664067159, 0.2222222222222222, 0.140625))</td><td>Map(vectorType -> dense, length -> 3, values -> List(0.8028644297896563, 0.04781049490585789, 0.14932507530448588))</td><td>0</td><td>0</td></tr><tr><td>Map(vectorType -> dense, length -> 5, values -> List(1.0, 0.24528301886792453, 0.6202531920623882, 0.18518518518518517, 0.5))</td><td>Map(vectorType -> dense, length -> 3, values -> List(0.790990419681749, 0.08322877732346134, 0.12578080299478978))</td><td>0</td><td>0</td></tr><tr><td>Map(vectorType -> dense, length -> 5, values -> List(1.0, 0.24905669014408902, 0.5949366416252734, 0.31481481481481477, 0.4375))</td><td>Map(vectorType -> dense, length -> 3, values -> List(0.7550268300955847, 0.10562696473227796, 0.13934620517213728))</td><td>0</td><td>0</td></tr><tr><td>Map(vectorType -> dense, length -> 5, values -> List(1.0, 0.2528302174694133, 0.7468354613749254, 0.14814814814814814, 0.5625))</td><td>Map(vectorType -> dense, length -> 3, values -> List(0.8130013776512569, 0.06406043666944843, 0.1229381856792947))</td><td>0</td><td>0</td></tr><tr><td>Map(vectorType -> dense, length -> 5, values -> List(1.0, 0.2679246146723909, 0.8734177306874626, 0.4444444444444444, 0.3515625))</td><td>Map(vectorType -> dense, length -> 3, values -> List(0.7719583958600768, 0.06215149257922083, 0.16589011156070252))</td><td>0</td><td>0</td></tr><tr><td>Map(vectorType -> dense, length -> 5, values -> List(1.0, 0.2716981419977152, 0.6708860515000994, 0.37037037037037035, 0.46875))</td><td>Map(vectorType -> dense, length -> 3, values -> List(0.7378983878846019, 0.1102220491842378, 0.15187956293116034))</td><td>0</td><td>0</td></tr><tr><td>Map(vectorType -> dense, length -> 5, values -> List(1.0, 0.2867925392006928, 0.48101264753129347, 0.25925925925925924, 0.2734375))</td><td>Map(vectorType -> dense, length -> 3, values -> List(0.738465248334448, 0.09573669515310733, 0.1657980565124446))</td><td>0</td><td>0</td></tr><tr><td>Map(vectorType -> dense, length -> 5, values -> List(1.0, 0.2905660665260171, 0.6582277762815419, 0.35185185185185186, 0.328125))</td><td>Map(vectorType -> dense, length -> 3, values -> List(0.7424940728145168, 0.08563040896472464, 0.1718755182207584))</td><td>0</td><td>0</td></tr><tr><td>Map(vectorType -> dense, length -> 5, values -> List(1.0, 0.2943397378021816, 0.43037978809358224, 0.2037037037037037, 0.109375))</td><td>Map(vectorType -> dense, length -> 3, values -> List(0.7512991100154618, 0.06988193483711612, 0.1788189551474221))</td><td>0</td><td>2</td></tr><tr><td>Map(vectorType -> dense, length -> 5, values -> List(1.0, 0.3018867924528302, 0.6202531920623882, 0.537037037037037, 0.453125))</td><td>Map(vectorType -> dense, length -> 3, values -> List(0.6454695775331909, 0.17959760508348707, 0.17493281738332206))</td><td>0</td><td>0</td></tr><tr><td>Map(vectorType -> dense, length -> 5, values -> List(1.0, 0.30943399105431896, 0.8987340396880591, 0.3333333333333333, 0.21875))</td><td>Map(vectorType -> dense, length -> 3, values -> List(0.7746257720574786, 0.036912448914920994, 0.18846177902760028))</td><td>0</td><td>0</td></tr><tr><td>Map(vectorType -> dense, length -> 5, values -> List(1.0, 0.35094351138708724, 0.5189872317504474, 0.09259259259259259, 0.234375))</td><td>Map(vectorType -> dense, length -> 3, values -> List(0.746269745337996, 0.06210395275380924, 0.19162630190819496))</td><td>0</td><td>2</td></tr><tr><td>Map(vectorType -> dense, length -> 5, values -> List(1.0, 0.35471703871241156, 0.5189872317504474, 0.2037037037037037, 0.15625))</td><td>Map(vectorType -> dense, length -> 3, values -> List(0.7200111498798328, 0.06854813332980286, 0.21144071679036427))</td><td>0</td><td>2</td></tr><tr><td>Map(vectorType -> dense, length -> 5, values -> List(1.0, 0.3811321618422022, 0.6708860515000994, 0.2962962962962963, 0.390625))</td><td>Map(vectorType -> dense, length -> 3, values -> List(0.6879498011354862, 0.09711378502087607, 0.2149364138436378))</td><td>0</td><td>0</td></tr><tr><td>Map(vectorType -> dense, length -> 5, values -> List(1.0, 0.4150943396226415, 0.8227848712497514, 0.37037037037037035, 0.484375))</td><td>Map(vectorType -> dense, length -> 3, values -> List(0.6634703796991708, 0.10040017260886429, 0.23612944769196498))</td><td>0</td><td>0</td></tr><tr><td>Map(vectorType -> dense, length -> 5, values -> List(1.0, 0.45660385995540975, 0.43037978809358224, 0.2777777777777778, 0.125))</td><td>Map(vectorType -> dense, length -> 3, values -> List(0.5986747860102098, 0.10908400730350488, 0.2922412066862852))</td><td>0</td><td>2</td></tr><tr><td>Map(vectorType -> dense, length -> 5, values -> List(1.0, 0.45660385995540975, 0.5822783664067159, 0.4074074074074074, 0.34375))</td><td>Map(vectorType -> dense, length -> 3, values -> List(0.571194411531476, 0.15288772890165322, 0.27591785956687087))</td><td>0</td><td>2</td></tr><tr><td>Map(vectorType -> dense, length -> 5, values -> List(1.0, 0.4641510585568986, 0.6962026019372142, 0.2222222222222222, 0.2109375))</td><td>Map(vectorType -> dense, length -> 3, values -> List(0.6523209543239298, 0.06093916059090096, 0.2867398850851694))</td><td>0</td><td>2</td></tr><tr><td>Map(vectorType -> dense, length -> 5, values -> List(1.0, 0.46792458588222285, 0.48101264753129347, 0.37037037037037035, 0.203125))</td><td>Map(vectorType -> dense, length -> 3, values -> List(0.5634165361492475, 0.1384179817858458, 0.29816548206490673))</td><td>0</td><td>2</td></tr><tr><td>Map(vectorType -> dense, length -> 5, values -> List(1.0, 0.4716981132075472, 0.7848100455940793, 0.3333333333333333, 0.2109375))</td><td>Map(vectorType -> dense, length -> 3, values -> List(0.630417126164725, 0.06303708495946159, 0.3065457888758133))</td><td>0</td><td>2</td></tr><tr><td>Map(vectorType -> dense, length -> 5, values -> List(1.0, 0.49056603773584906, 0.6329114672809455, 0.037037037037037035, 0.125))</td><td>Map(vectorType -> dense, length -> 3, values -> List(0.6652675791868204, 0.04092116008969226, 0.29381126072348734))</td><td>0</td><td>2</td></tr><tr><td>Map(vectorType -> dense, length -> 5, values -> List(1.0, 0.5245283594671285, 0.5189872317504474, 0.16666666666666666, 0.265625))</td><td>Map(vectorType -> dense, length -> 3, values -> List(0.5806395551073021, 0.10092789968131728, 0.3184325452113805))</td><td>0</td><td>2</td></tr><tr><td>Map(vectorType -> dense, length -> 5, values -> List(1.0, 0.5471698113207547, 0.6455695010629846, 0.35185185185185186, 0.3125))</td><td>Map(vectorType -> dense, length -> 3, values -> List(0.5258500662633249, 0.12309000796013891, 0.3510599257765363))</td><td>0</td><td>2</td></tr><tr><td>Map(vectorType -> dense, length -> 5, values -> List(1.0, 0.6188679821086379, 0.734177186156368, 0.4444444444444444, 0.296875))</td><td>Map(vectorType -> dense, length -> 3, values -> List(0.4489865059090475, 0.12375272563782012, 0.4272607684531324))</td><td>0</td><td>2</td></tr><tr><td>Map(vectorType -> dense, length -> 5, values -> List(1.0, 0.6566038311652417, 0.8101265960311941, 0.4629629629629629, 0.375))</td><td>Map(vectorType -> dense, length -> 3, values -> List(0.4194092016375229, 0.12900183347384148, 0.45158896488863565))</td><td>2</td><td>2</td></tr><tr><td>Map(vectorType -> dense, length -> 5, values -> List(1.0, 0.6716982283682194, 0.7468354613749254, 0.37037037037037035, 0.21875))</td><td>Map(vectorType -> dense, length -> 3, values -> List(0.4241229271829043, 0.09132542364082938, 0.4845516491762665))</td><td>2</td><td>2</td></tr><tr><td>Map(vectorType -> dense, length -> 5, values -> List(1.0, 0.7018868788233343, 0.8987340396880591, 0.3333333333333333, 0.2890625))</td><td>Map(vectorType -> dense, length -> 3, values -> List(0.4265005977261378, 0.0694431289772356, 0.5040562732966266))</td><td>2</td><td>2</td></tr><tr><td>Map(vectorType -> dense, length -> 5, values -> List(1.0, 0.7132076047501473, 0.9493671405622887, 0.6296296296296295, 0.609375))</td><td>Map(vectorType -> dense, length -> 3, values -> List(0.33310784875332283, 0.2072157445008768, 0.45967640674580035))</td><td>2</td><td>2</td></tr><tr><td>Map(vectorType -> dense, length -> 5, values -> List(1.0, 0.93962269908977, 0.5822783664067159, 0.09259259259259259, 0.265625))</td><td>Map(vectorType -> dense, length -> 3, values -> List(0.24010067633390203, 0.0907709288656063, 0.6691283948004917))</td><td>2</td><td>2</td></tr><tr><td>Map(vectorType -> dense, length -> 5, values -> List(2.0, 0.049056718934257074, 0.6582277762815419, 0.14814814814814814, 0.1484375))</td><td>Map(vectorType -> dense, length -> 3, values -> List(0.9144285999610263, 0.012652837570682973, 0.07291856246829076))</td><td>0</td><td>0</td></tr><tr><td>Map(vectorType -> dense, length -> 5, values -> List(2.0, 0.09811329391767394, 0.48101264753129347, 0.24074074074074073, 0.15625))</td><td>Map(vectorType -> dense, length -> 3, values -> List(0.8755282945564007, 0.029099451832635917, 0.09537225361096331))</td><td>0</td><td>0</td></tr><tr><td>Map(vectorType -> dense, length -> 5, values -> List(2.0, 0.11698121844597582, 0.36708865343731356, 0.2037037037037037, 0.21875))</td><td>Map(vectorType -> dense, length -> 3, values -> List(0.8591434677471388, 0.04253811761106196, 0.09831841464179916))</td><td>0</td><td>0</td></tr><tr><td>Map(vectorType -> dense, length -> 5, values -> List(2.0, 0.17358499203088149, 0.8354429050317905, 0.4074074074074074, 0.203125))</td><td>Map(vectorType -> dense, length -> 3, values -> List(0.8469684191201639, 0.022428661691886877, 0.13060291918794917))</td><td>0</td><td>0</td></tr><tr><td>Map(vectorType -> dense, length -> 5, values -> List(2.0, 0.17735851935620578, 0.49367092274985086, 0.18518518518518517, 0.140625))</td><td>Map(vectorType -> dense, length -> 3, values -> List(0.8489368919346634, 0.02838539694875369, 0.12267771111658285))</td><td>0</td><td>0</td></tr><tr><td>Map(vectorType -> dense, length -> 5, values -> List(2.0, 0.22264156701429835, 0.49367092274985086, 0.2777777777777778, 0.0625))</td><td>Map(vectorType -> dense, length -> 3, values -> List(0.8104799403033389, 0.03311974208774765, 0.15640031760891349))</td><td>0</td><td>0</td></tr><tr><td>Map(vectorType -> dense, length -> 5, values -> List(2.0, 0.23018876561578713, 0.8101265960311941, 0.35185185185185186, 0.5703125))</td><td>Map(vectorType -> dense, length -> 3, values -> List(0.8160868850107259, 0.050854379915111325, 0.13305873507416288))</td><td>0</td><td>0</td></tr><tr><td>Map(vectorType -> dense, length -> 5, values -> List(2.0, 0.24150949154260024, 0.5316455069690047, 0.18518518518518517, 0.296875))</td><td>Map(vectorType -> dense, length -> 3, values -> List(0.8157744691553385, 0.04080863676383821, 0.14341689408082328))</td><td>0</td><td>0</td></tr><tr><td>Map(vectorType -> dense, length -> 5, values -> List(2.0, 0.24528301886792453, 0.5063291979684083, 0.37037037037037035, 0.21875))</td><td>Map(vectorType -> dense, length -> 3, values -> List(0.775791735903154, 0.05768901897543649, 0.16651924512140967))</td><td>0</td><td>0</td></tr><tr><td>Map(vectorType -> dense, length -> 5, values -> List(2.0, 0.24905669014408902, 0.6582277762815419, 0.25925925925925924, 0.328125))</td><td>Map(vectorType -> dense, length -> 3, values -> List(0.8117997842465101, 0.03801368338628194, 0.15018653236720791))</td><td>0</td><td>0</td></tr><tr><td>Map(vectorType -> dense, length -> 5, values -> List(2.0, 0.2679246146723909, 0.48101264753129347, 0.0, 0.1875))</td><td>Map(vectorType -> dense, length -> 3, values -> List(0.8278373167064624, 0.02506913395785037, 0.1470935493356873))</td><td>0</td><td>0</td></tr><tr><td>Map(vectorType -> dense, length -> 5, values -> List(2.0, 0.2716981419977152, 0.6075949168438307, 0.35185185185185186, 0.125))</td><td>Map(vectorType -> dense, length -> 3, values -> List(0.7776119836382295, 0.03687285976553396, 0.1855151565962366))</td><td>0</td><td>0</td></tr><tr><td>Map(vectorType -> dense, length -> 5, values -> List(2.0, 0.2943397378021816, 0.4556960970941787, 0.2777777777777778, 0.265625))</td><td>Map(vectorType -> dense, length -> 3, values -> List(0.7537069393075073, 0.06391099794550976, 0.18238206274698293))</td><td>0</td><td>0</td></tr><tr><td>Map(vectorType -> dense, length -> 5, values -> List(2.0, 0.31320766233048347, 0.6708860515000994, 0.48148148148148145, 0.3203125))</td><td>Map(vectorType -> dense, length -> 3, values -> List(0.7233184382849196, 0.06846673630035541, 0.20821482541472522))</td><td>0</td><td>0</td></tr><tr><td>Map(vectorType -> dense, length -> 5, values -> List(2.0, 0.35471703871241156, 0.9493671405622887, 0.38888888888888884, 0.515625))</td><td>Map(vectorType -> dense, length -> 3, values -> List(0.7486790264555568, 0.044091451369870305, 0.20722952217457294))</td><td>0</td><td>0</td></tr><tr><td>Map(vectorType -> dense, length -> 5, values -> List(2.0, 0.3698114359153891, 0.5569620574061195, 0.37037037037037035, 0.578125))</td><td>Map(vectorType -> dense, length -> 3, values -> List(0.6648877604861924, 0.12957418319358024, 0.20553805632022754))</td><td>0</td><td>0</td></tr></tbody></table></div>"
      ]
     },
     "metadata": {
      "application/vnd.databricks.v1+output": {
       "addedWidgets": {},
       "aggData": [],
       "aggError": "",
       "aggOverflow": false,
       "aggSchema": [],
       "aggSeriesLimitReached": false,
       "aggType": "",
       "arguments": {},
       "columnCustomDisplayInfos": {},
       "data": [
        [
         {
          "length": 5,
          "values": [
           0.0,
           0.08301889671469634,
           0.7215189109378106,
           0.2037037037037037,
           0.296875
          ],
          "vectorType": "dense"
         },
         {
          "length": 3,
          "values": [
           0.8725526455576519,
           0.05256123761421712,
           0.07488611682813091
          ],
          "vectorType": "dense"
         },
         0,
         0
        ],
        [
         {
          "length": 5,
          "values": [
           0.0,
           0.09811329391767394,
           0.4683543723127361,
           0.16666666666666666,
           0.09375
          ],
          "vectorType": "dense"
         },
         {
          "length": 3,
          "values": [
           0.8509166775972573,
           0.06307135535758125,
           0.08601196704516141
          ],
          "vectorType": "dense"
         },
         0,
         0
        ],
        [
         {
          "length": 5,
          "values": [
           0.0,
           0.1283019443727889,
           0.43037978809358224,
           0.09259259259259259,
           0.0
          ],
          "vectorType": "dense"
         },
         {
          "length": 3,
          "values": [
           0.8525456273739734,
           0.05153240974231355,
           0.09592196288371302
          ],
          "vectorType": "dense"
         },
         0,
         0
        ],
        [
         {
          "length": 5,
          "values": [
           0.0,
           0.16981132075471697,
           0.48101264753129347,
           0.16666666666666666,
           0.234375
          ],
          "vectorType": "dense"
         },
         {
          "length": 3,
          "values": [
           0.8027768072037349,
           0.09423485687015784,
           0.1029883359261072
          ],
          "vectorType": "dense"
         },
         0,
         0
        ],
        [
         {
          "length": 5,
          "values": [
           0.0,
           0.17735851935620578,
           0.8607594554689053,
           0.25925925925925924,
           0.4375
          ],
          "vectorType": "dense"
         },
         {
          "length": 3,
          "values": [
           0.8301686404006263,
           0.06894069815809299,
           0.10089066144128057
          ],
          "vectorType": "dense"
         },
         0,
         0
        ],
        [
         {
          "length": 5,
          "values": [
           0.0,
           0.18867924528301885,
           0.48101264753129347,
           0.09259259259259259,
           0.1015625
          ],
          "vectorType": "dense"
         },
         {
          "length": 3,
          "values": [
           0.8235891407374437,
           0.06343954671837863,
           0.11297131254417773
          ],
          "vectorType": "dense"
         },
         0,
         0
        ],
        [
         {
          "length": 5,
          "values": [
           0.0,
           0.24528301886792453,
           0.9493671405622887,
           0.2777777777777778,
           0.328125
          ],
          "vectorType": "dense"
         },
         {
          "length": 3,
          "values": [
           0.8117819385227097,
           0.05314979078383194,
           0.1350682706934584
          ],
          "vectorType": "dense"
         },
         0,
         0
        ],
        [
         {
          "length": 5,
          "values": [
           0.0,
           0.279245340599204,
           0.5949366416252734,
           0.2037037037037037,
           0.109375
          ],
          "vectorType": "dense"
         },
         {
          "length": 3,
          "values": [
           0.7635579192075426,
           0.07506086829211074,
           0.16138121250034662
          ],
          "vectorType": "dense"
         },
         0,
         0
        ],
        [
         {
          "length": 5,
          "values": [
           0.0,
           0.279245340599204,
           0.7215189109378106,
           0.07407407407407407,
           0.34375
          ],
          "vectorType": "dense"
         },
         {
          "length": 3,
          "values": [
           0.7993068905557995,
           0.06510997294883684,
           0.13558313649536377
          ],
          "vectorType": "dense"
         },
         0,
         0
        ],
        [
         {
          "length": 5,
          "values": [
           0.0,
           0.32075471698113206,
           0.6075949168438307,
           0.2962962962962963,
           0.34375
          ],
          "vectorType": "dense"
         },
         {
          "length": 3,
          "values": [
           0.6807784267188504,
           0.15128180967862878,
           0.16793976360252086
          ],
          "vectorType": "dense"
         },
         0,
         0
        ],
        [
         {
          "length": 5,
          "values": [
           0.0,
           0.36226423731390034,
           0.06329113465626864,
           0.5925925925925926,
           0.34375
          ],
          "vectorType": "dense"
         },
         {
          "length": 3,
          "values": [
           0.2632041335941681,
           0.6265248210834253,
           0.11027104532240649
          ],
          "vectorType": "dense"
         },
         1,
         1
        ],
        [
         {
          "length": 5,
          "values": [
           0.0,
           0.36226423731390034,
           0.6455695010629846,
           0.37037037037037035,
           0.3828125
          ],
          "vectorType": "dense"
         },
         {
          "length": 3,
          "values": [
           0.6253533087639459,
           0.1849446503308194,
           0.18970204090523482
          ],
          "vectorType": "dense"
         },
         0,
         0
        ],
        [
         {
          "length": 5,
          "values": [
           0.0,
           0.3660377646392246,
           0.12658226931253727,
           0.611111111111111,
           0.578125
          ],
          "vectorType": "dense"
         },
         {
          "length": 3,
          "values": [
           0.20518692250069298,
           0.7147329507485777,
           0.0800801267507292
          ],
          "vectorType": "dense"
         },
         1,
         1
        ],
        [
         {
          "length": 5,
          "values": [
           0.0,
           0.38490568916752654,
           0.10126583959368164,
           0.5925925925925926,
           0.5390625
          ],
          "vectorType": "dense"
         },
         {
          "length": 3,
          "values": [
           0.20517994870593234,
           0.7078599285265647,
           0.08696012276750303
          ],
          "vectorType": "dense"
         },
         1,
         1
        ],
        [
         {
          "length": 5,
          "values": [
           0.0,
           0.3962264150943396,
           0.08860756437512426,
           0.7592592592592592,
           0.640625
          ],
          "vectorType": "dense"
         },
         {
          "length": 3,
          "values": [
           0.11716412674090218,
           0.8253820853044196,
           0.05745378795467832
          ],
          "vectorType": "dense"
         },
         1,
         1
        ],
        [
         {
          "length": 5,
          "values": [
           0.0,
           0.4113208122973172,
           0.050632980155970404,
           0.5925925925925926,
           0.46875
          ],
          "vectorType": "dense"
         },
         {
          "length": 3,
          "values": [
           0.19370345210122394,
           0.7113383674359776,
           0.0949581804627986
          ],
          "vectorType": "dense"
         },
         1,
         1
        ],
        [
         {
          "length": 5,
          "values": [
           0.0,
           0.42641520950029477,
           0.5189872317504474,
           0.7962962962962963,
           0.75
          ],
          "vectorType": "dense"
         },
         {
          "length": 3,
          "values": [
           0.2092684574760096,
           0.6863086234666668,
           0.10442291905732366
          ],
          "vectorType": "dense"
         },
         1,
         1
        ],
        [
         {
          "length": 5,
          "values": [
           0.0,
           0.4301887368256191,
           0.13924054453109466,
           0.7407407407407407,
           0.390625
          ],
          "vectorType": "dense"
         },
         {
          "length": 3,
          "values": [
           0.18556996432422526,
           0.702617801330932,
           0.11181223434484257
          ],
          "vectorType": "dense"
         },
         1,
         1
        ],
        [
         {
          "length": 5,
          "values": [
           0.0,
           0.4452831340285967,
           0.01265827521855739,
           0.6851851851851851,
           0.703125
          ],
          "vectorType": "dense"
         },
         {
          "length": 3,
          "values": [
           0.09176794606084882,
           0.8567477841384022,
           0.05148426980074894
          ],
          "vectorType": "dense"
         },
         1,
         1
        ],
        [
         {
          "length": 5,
          "values": [
           0.0,
           0.4452831340285967,
           0.07594940987482603,
           0.6666666666666666,
           0.59375
          ],
          "vectorType": "dense"
         },
         {
          "length": 3,
          "values": [
           0.13317514726835966,
           0.7912257435989437,
           0.0755991091326965
          ],
          "vectorType": "dense"
         },
         1,
         1
        ],
        [
         {
          "length": 5,
          "values": [
           0.0,
           0.45660385995540975,
           0.20253167918736328,
           0.6666666666666666,
           0.734375
          ],
          "vectorType": "dense"
         },
         {
          "length": 3,
          "values": [
           0.13537203296780334,
           0.7903549769174457,
           0.07427299011475105
          ],
          "vectorType": "dense"
         },
         1,
         1
        ],
        [
         {
          "length": 5,
          "values": [
           0.0,
           0.45660385995540975,
           0.40506323765646746,
           0.8703703703703703,
           0.96875
          ],
          "vectorType": "dense"
         },
         {
          "length": 3,
          "values": [
           0.09151107737281591,
           0.8566343839112028,
           0.051854538715981294
          ],
          "vectorType": "dense"
         },
         1,
         1
        ],
        [
         {
          "length": 5,
          "values": [
           0.0,
           0.4603773872807341,
           0.07594940987482603,
           0.5925925925925926,
           0.421875
          ],
          "vectorType": "dense"
         },
         {
          "length": 3,
          "values": [
           0.19382737894597468,
           0.6886339440534609,
           0.11753867700056442
          ],
          "vectorType": "dense"
         },
         1,
         1
        ],
        [
         {
          "length": 5,
          "values": [
           0.0,
           0.4716981132075472,
           0.8987340396880591,
           0.2777777777777778,
           0.546875
          ],
          "vectorType": "dense"
         },
         {
          "length": 3,
          "values": [
           0.6194126940530655,
           0.13783523605604997,
           0.24275206989088463
          ],
          "vectorType": "dense"
         },
         0,
         0
        ],
        [
         {
          "length": 5,
          "values": [
           0.0,
           0.49056603773584906,
           0.0,
           0.6481481481481481,
           0.515625
          ],
          "vectorType": "dense"
         },
         {
          "length": 3,
          "values": [
           0.11910922255568397,
           0.7969439090377164,
           0.08394686840659964
          ],
          "vectorType": "dense"
         },
         1,
         1
        ],
        [
         {
          "length": 5,
          "values": [
           0.0,
           0.49056603773584906,
           0.24050638412477632,
           0.7222222222222222,
           0.703125
          ],
          "vectorType": "dense"
         },
         {
          "length": 3,
          "values": [
           0.12637186859619381,
           0.7900269490568468,
           0.08360118234695935
          ],
          "vectorType": "dense"
         },
         1,
         1
        ],
        [
         {
          "length": 5,
          "values": [
           0.0,
           0.4943397090120135,
           0.21518983368766154,
           0.8333333333333333,
           0.765625
          ],
          "vectorType": "dense"
         },
         {
          "length": 3,
          "values": [
           0.08308607453597484,
           0.8569247867677711,
           0.05998913869625405
          ],
          "vectorType": "dense"
         },
         1,
         1
        ],
        [
         {
          "length": 5,
          "values": [
           0.0,
           0.5056604349388266,
           0.1518986990313929,
           0.7592592592592592,
           0.640625
          ],
          "vectorType": "dense"
         },
         {
          "length": 3,
          "values": [
           0.10238665595704805,
           0.8201211871606159,
           0.07749215688233604
          ],
          "vectorType": "dense"
         },
         1,
         1
        ],
        [
         {
          "length": 5,
          "values": [
           0.0,
           0.5094339622641509,
           0.12658226931253727,
           0.6296296296296295,
           0.625
          ],
          "vectorType": "dense"
         },
         {
          "length": 3,
          "values": [
           0.13005719133413282,
           0.7788709059546819,
           0.09107190271118527
          ],
          "vectorType": "dense"
         },
         1,
         1
        ],
        [
         {
          "length": 5,
          "values": [
           0.0,
           0.5132076335403154,
           0.26582281384363193,
           0.7962962962962963,
           0.734375
          ],
          "vectorType": "dense"
         },
         {
          "length": 3,
          "values": [
           0.10203768760554148,
           0.8206845448842616,
           0.07727776751019708
          ],
          "vectorType": "dense"
         },
         1,
         1
        ],
        [
         {
          "length": 5,
          "values": [
           0.0,
           0.5358490853939416,
           0.26582281384363193,
           0.8518518518518519,
           0.75
          ],
          "vectorType": "dense"
         },
         {
          "length": 3,
          "values": [
           0.08273053014259296,
           0.8457930179932936,
           0.07147645186411336
          ],
          "vectorType": "dense"
         },
         1,
         1
        ],
        [
         {
          "length": 5,
          "values": [
           0.0,
           0.5433962839954304,
           0.10126583959368164,
           0.6666666666666666,
           0.6328125
          ],
          "vectorType": "dense"
         },
         {
          "length": 3,
          "values": [
           0.102886693410694,
           0.8115771927419521,
           0.08553611384735388
          ],
          "vectorType": "dense"
         },
         1,
         1
        ],
        [
         {
          "length": 5,
          "values": [
           0.0,
           0.5433962839954304,
           0.22784810890621893,
           0.7777777777777777,
           0.65625
          ],
          "vectorType": "dense"
         },
         {
          "length": 3,
          "values": [
           0.10298733071927577,
           0.8067408894377918,
           0.09027177984293225
          ],
          "vectorType": "dense"
         },
         1,
         1
        ],
        [
         {
          "length": 5,
          "values": [
           0.0,
           0.5471698113207547,
           0.16455697424995028,
           0.7222222222222222,
           0.796875
          ],
          "vectorType": "dense"
         },
         {
          "length": 3,
          "values": [
           0.07827110718023932,
           0.8576150860803277,
           0.064113806739433
          ],
          "vectorType": "dense"
         },
         1,
         1
        ],
        [
         {
          "length": 5,
          "values": [
           0.0,
           0.5547170099222435,
           0.22784810890621893,
           0.7222222222222222,
           0.875
          ],
          "vectorType": "dense"
         },
         {
          "length": 3,
          "values": [
           0.07746476700923997,
           0.8598522148878179,
           0.06268301810294202
          ],
          "vectorType": "dense"
         },
         1,
         1
        ],
        [
         {
          "length": 5,
          "values": [
           0.0,
           0.5660377358490566,
           0.24050638412477632,
           0.611111111111111,
           0.828125
          ],
          "vectorType": "dense"
         },
         {
          "length": 3,
          "values": [
           0.10764166924412724,
           0.8077188610534686,
           0.08463946970240419
          ],
          "vectorType": "dense"
         },
         1,
         1
        ],
        [
         {
          "length": 5,
          "values": [
           0.0,
           0.569811407125221,
           0.13924054453109466,
           0.6296296296296295,
           0.546875
          ],
          "vectorType": "dense"
         },
         {
          "length": 3,
          "values": [
           0.12965558641215327,
           0.7509970753086637,
           0.11934733827918297
          ],
          "vectorType": "dense"
         },
         1,
         1
        ],
        [
         {
          "length": 5,
          "values": [
           0.0,
           0.569811407125221,
           0.30379751878104494,
           0.8333333333333333,
           0.703125
          ],
          "vectorType": "dense"
         },
         {
          "length": 3,
          "values": [
           0.09326817737226875,
           0.8146753286218975,
           0.09205649400583371
          ],
          "vectorType": "dense"
         },
         1,
         1
        ],
        [
         {
          "length": 5,
          "values": [
           0.0,
           0.5773586057267098,
           0.17721524946850767,
           0.6851851851851851,
           0.9375
          ],
          "vectorType": "dense"
         },
         {
          "length": 3,
          "values": [
           0.06286133144752355,
           0.8836246119264163,
           0.05351405662606024
          ],
          "vectorType": "dense"
         },
         1,
         1
        ],
        [
         {
          "length": 5,
          "values": [
           0.0,
           0.5811321330520341,
           0.11392411481223903,
           0.8148148148148148,
           0.765625
          ],
          "vectorType": "dense"
         },
         {
          "length": 3,
          "values": [
           0.05407382661329564,
           0.8898080495362908,
           0.05611812385041355
          ],
          "vectorType": "dense"
         },
         1,
         1
        ],
        [
         {
          "length": 5,
          "values": [
           0.0,
           0.5811321330520341,
           0.22784810890621893,
           0.7962962962962963,
           0.625
          ],
          "vectorType": "dense"
         },
         {
          "length": 3,
          "values": [
           0.09444663287094646,
           0.8063341521065177,
           0.09921921502253586
          ],
          "vectorType": "dense"
         },
         1,
         1
        ],
        [
         {
          "length": 5,
          "values": [
           0.0,
           0.600000057580336,
           0.36708865343731356,
           0.7407407407407407,
           0.84375
          ],
          "vectorType": "dense"
         },
         {
          "length": 3,
          "values": [
           0.09601257084903367,
           0.8108681649998066,
           0.09311926415115974
          ],
          "vectorType": "dense"
         },
         1,
         1
        ],
        [
         {
          "length": 5,
          "values": [
           0.0,
           0.6037735849056604,
           0.16455697424995028,
           0.6666666666666666,
           0.5546875
          ],
          "vectorType": "dense"
         },
         {
          "length": 3,
          "values": [
           0.11461331999285512,
           0.7615281728004958,
           0.12385850720664898
          ],
          "vectorType": "dense"
         },
         1,
         1
        ],
        [
         {
          "length": 5,
          "values": [
           0.0,
           0.6188679821086379,
           0.36708865343731356,
           0.8888888888888888,
           0.875
          ],
          "vectorType": "dense"
         },
         {
          "length": 3,
          "values": [
           0.06195986046041062,
           0.8657227027785304,
           0.07231743676105905
          ],
          "vectorType": "dense"
         },
         1,
         1
        ],
        [
         {
          "length": 5,
          "values": [
           0.0,
           0.6188679821086379,
           0.37974692865587095,
           0.9814814814814814,
           0.921875
          ],
          "vectorType": "dense"
         },
         {
          "length": 3,
          "values": [
           0.047181050229561296,
           0.8946681275918493,
           0.058150822178589405
          ],
          "vectorType": "dense"
         },
         1,
         1
        ],
        [
         {
          "length": 5,
          "values": [
           0.0,
           0.6226415094339622,
           0.22784810890621893,
           0.7407407407407407,
           0.59375
          ],
          "vectorType": "dense"
         },
         {
          "length": 3,
          "values": [
           0.10042124000306765,
           0.7786242941158186,
           0.12095446588111393
          ],
          "vectorType": "dense"
         },
         1,
         1
        ],
        [
         {
          "length": 5,
          "values": [
           0.0,
           0.6226415094339622,
           0.35443037821875617,
           0.9074074074074073,
           0.890625
          ],
          "vectorType": "dense"
         },
         {
          "length": 3,
          "values": [
           0.05540097779213804,
           0.8781419683838528,
           0.06645705382400925
          ],
          "vectorType": "dense"
         },
         1,
         1
        ],
        [
         {
          "length": 5,
          "values": [
           0.0,
           0.6452831052384286,
           0.13924054453109466,
           0.7777777777777777,
           0.890625
          ],
          "vectorType": "dense"
         },
         {
          "length": 3,
          "values": [
           0.04182631444928478,
           0.9061746174893445,
           0.05199906806137081
          ],
          "vectorType": "dense"
         },
         1,
         1
        ],
        [
         {
          "length": 5,
          "values": [
           0.0,
           0.6528303038399175,
           0.31645567328134316,
           0.8518518518518519,
           0.90625
          ],
          "vectorType": "dense"
         },
         {
          "length": 3,
          "values": [
           0.05157351446565629,
           0.8813174769858894,
           0.06710900854845421
          ],
          "vectorType": "dense"
         },
         1,
         1
        ],
        [
         {
          "length": 5,
          "values": [
           0.0,
           0.6641510297667306,
           0.22784810890621893,
           0.8703703703703703,
           0.84375
          ],
          "vectorType": "dense"
         },
         {
          "length": 3,
          "values": [
           0.04330205875700712,
           0.8941642099539776,
           0.0625337312890153
          ],
          "vectorType": "dense"
         },
         1,
         1
        ],
        [
         {
          "length": 5,
          "values": [
           0.0,
           0.6679245570920548,
           0.31645567328134316,
           0.9259259259259258,
           0.734375
          ],
          "vectorType": "dense"
         },
         {
          "length": 3,
          "values": [
           0.05684334158439153,
           0.8541068347450681,
           0.08904982367054035
          ],
          "vectorType": "dense"
         },
         1,
         1
        ],
        [
         {
          "length": 5,
          "values": [
           0.0,
           0.6943396802218454,
           0.39240496243791007,
           1.0,
           0.828125
          ],
          "vectorType": "dense"
         },
         {
          "length": 3,
          "values": [
           0.045104295037015144,
           0.875529817184779,
           0.07936588777820575
          ],
          "vectorType": "dense"
         },
         1,
         1
        ],
        [
         {
          "length": 5,
          "values": [
           0.0,
           0.7207548033516362,
           0.49367092274985086,
           0.9629629629629629,
           0.796875
          ],
          "vectorType": "dense"
         },
         {
          "length": 3,
          "values": [
           0.061191003446353864,
           0.8236224850038613,
           0.1151865115497848
          ],
          "vectorType": "dense"
         },
         1,
         1
        ],
        [
         {
          "length": 5,
          "values": [
           0.0,
           1.0,
           0.48101264753129347,
           1.0,
           1.0
          ],
          "vectorType": "dense"
         },
         {
          "length": 3,
          "values": [
           0.017399082375841864,
           0.8841772734643951,
           0.09842364415976321
          ],
          "vectorType": "dense"
         },
         1,
         1
        ],
        [
         {
          "length": 5,
          "values": [
           1.0,
           0.0,
           0.36708865343731356,
           0.037037037037037035,
           0.015625
          ],
          "vectorType": "dense"
         },
         {
          "length": 3,
          "values": [
           0.9160682089558897,
           0.023951135934613337,
           0.05998065510949698
          ],
          "vectorType": "dense"
         },
         0,
         0
        ],
        [
         {
          "length": 5,
          "values": [
           1.0,
           0.09433962264150943,
           0.5443037821875621,
           0.2777777777777778,
           0.1015625
          ],
          "vectorType": "dense"
         },
         {
          "length": 3,
          "values": [
           0.86517702744634,
           0.04055505510841485,
           0.09426791744524525
          ],
          "vectorType": "dense"
         },
         0,
         0
        ],
        [
         {
          "length": 5,
          "values": [
           1.0,
           0.10943401984448703,
           0.6708860515000994,
           0.18518518518518517,
           0.078125
          ],
          "vectorType": "dense"
         },
         {
          "length": 3,
          "values": [
           0.8838852480446001,
           0.022863962136623384,
           0.09325078981877648
          ],
          "vectorType": "dense"
         },
         0,
         0
        ],
        [
         {
          "length": 5,
          "values": [
           1.0,
           0.1433963415757665,
           0.6835443267186567,
           0.24074074074074073,
           0.203125
          ],
          "vectorType": "dense"
         },
         {
          "length": 3,
          "values": [
           0.860602826413483,
           0.03552848292365456,
           0.10386869066286257
          ],
          "vectorType": "dense"
         },
         0,
         0
        ],
        [
         {
          "length": 5,
          "values": [
           1.0,
           0.1584905948279039,
           0.4556960970941787,
           0.2962962962962963,
           0.046875
          ],
          "vectorType": "dense"
         },
         {
          "length": 3,
          "values": [
           0.8221761479570301,
           0.05475542005543413,
           0.12306843198753578
          ],
          "vectorType": "dense"
         },
         0,
         0
        ],
        [
         {
          "length": 5,
          "values": [
           1.0,
           0.1584905948279039,
           0.5822783664067159,
           0.2777777777777778,
           0.15625
          ],
          "vectorType": "dense"
         },
         {
          "length": 3,
          "values": [
           0.8373403643532317,
           0.047386875736337354,
           0.11527275991043102
          ],
          "vectorType": "dense"
         },
         0,
         0
        ],
        [
         {
          "length": 5,
          "values": [
           1.0,
           0.16603779342939268,
           0.6708860515000994,
           0.42592592592592593,
           0.5078125
          ],
          "vectorType": "dense"
         },
         {
          "length": 3,
          "values": [
           0.782595945116333,
           0.10967660599558604,
           0.10772744888808106
          ],
          "vectorType": "dense"
         },
         0,
         0
        ],
        [
         {
          "length": 5,
          "values": [
           1.0,
           0.18867924528301885,
           0.5569620574061195,
           0.2037037037037037,
           0.1796875
          ],
          "vectorType": "dense"
         },
         {
          "length": 3,
          "values": [
           0.8309927428842698,
           0.0474502631685102,
           0.12155699394722
          ],
          "vectorType": "dense"
         },
         0,
         0
        ],
        [
         {
          "length": 5,
          "values": [
           1.0,
           0.18867924528301885,
           0.6835443267186567,
           0.25925925925925924,
           0.265625
          ],
          "vectorType": "dense"
         },
         {
          "length": 3,
          "values": [
           0.8332862273429072,
           0.046660513955755836,
           0.1200532587013369
          ],
          "vectorType": "dense"
         },
         0,
         0
        ],
        [
         {
          "length": 5,
          "values": [
           1.0,
           0.19622644388450766,
           0.7594937365934827,
           0.24074074074074073,
           0.34375
          ],
          "vectorType": "dense"
         },
         {
          "length": 3,
          "values": [
           0.8388978135941824,
           0.04380818295509774,
           0.11729400345071979
          ],
          "vectorType": "dense"
         },
         0,
         0
        ],
        [
         {
          "length": 5,
          "values": [
           1.0,
           0.23018876561578713,
           0.9999999999999999,
           0.37037037037037035,
           0.40625
          ],
          "vectorType": "dense"
         },
         {
          "length": 3,
          "values": [
           0.8245410770988285,
           0.03920230294266663,
           0.13625661995850485
          ],
          "vectorType": "dense"
         },
         0,
         0
        ],
        [
         {
          "length": 5,
          "values": [
           1.0,
           0.24150949154260024,
           0.5822783664067159,
           0.2222222222222222,
           0.140625
          ],
          "vectorType": "dense"
         },
         {
          "length": 3,
          "values": [
           0.8028644297896563,
           0.04781049490585789,
           0.14932507530448588
          ],
          "vectorType": "dense"
         },
         0,
         0
        ],
        [
         {
          "length": 5,
          "values": [
           1.0,
           0.24528301886792453,
           0.6202531920623882,
           0.18518518518518517,
           0.5
          ],
          "vectorType": "dense"
         },
         {
          "length": 3,
          "values": [
           0.790990419681749,
           0.08322877732346134,
           0.12578080299478978
          ],
          "vectorType": "dense"
         },
         0,
         0
        ],
        [
         {
          "length": 5,
          "values": [
           1.0,
           0.24905669014408902,
           0.5949366416252734,
           0.31481481481481477,
           0.4375
          ],
          "vectorType": "dense"
         },
         {
          "length": 3,
          "values": [
           0.7550268300955847,
           0.10562696473227796,
           0.13934620517213728
          ],
          "vectorType": "dense"
         },
         0,
         0
        ],
        [
         {
          "length": 5,
          "values": [
           1.0,
           0.2528302174694133,
           0.7468354613749254,
           0.14814814814814814,
           0.5625
          ],
          "vectorType": "dense"
         },
         {
          "length": 3,
          "values": [
           0.8130013776512569,
           0.06406043666944843,
           0.1229381856792947
          ],
          "vectorType": "dense"
         },
         0,
         0
        ],
        [
         {
          "length": 5,
          "values": [
           1.0,
           0.2679246146723909,
           0.8734177306874626,
           0.4444444444444444,
           0.3515625
          ],
          "vectorType": "dense"
         },
         {
          "length": 3,
          "values": [
           0.7719583958600768,
           0.06215149257922083,
           0.16589011156070252
          ],
          "vectorType": "dense"
         },
         0,
         0
        ],
        [
         {
          "length": 5,
          "values": [
           1.0,
           0.2716981419977152,
           0.6708860515000994,
           0.37037037037037035,
           0.46875
          ],
          "vectorType": "dense"
         },
         {
          "length": 3,
          "values": [
           0.7378983878846019,
           0.1102220491842378,
           0.15187956293116034
          ],
          "vectorType": "dense"
         },
         0,
         0
        ],
        [
         {
          "length": 5,
          "values": [
           1.0,
           0.2867925392006928,
           0.48101264753129347,
           0.25925925925925924,
           0.2734375
          ],
          "vectorType": "dense"
         },
         {
          "length": 3,
          "values": [
           0.738465248334448,
           0.09573669515310733,
           0.1657980565124446
          ],
          "vectorType": "dense"
         },
         0,
         0
        ],
        [
         {
          "length": 5,
          "values": [
           1.0,
           0.2905660665260171,
           0.6582277762815419,
           0.35185185185185186,
           0.328125
          ],
          "vectorType": "dense"
         },
         {
          "length": 3,
          "values": [
           0.7424940728145168,
           0.08563040896472464,
           0.1718755182207584
          ],
          "vectorType": "dense"
         },
         0,
         0
        ],
        [
         {
          "length": 5,
          "values": [
           1.0,
           0.2943397378021816,
           0.43037978809358224,
           0.2037037037037037,
           0.109375
          ],
          "vectorType": "dense"
         },
         {
          "length": 3,
          "values": [
           0.7512991100154618,
           0.06988193483711612,
           0.1788189551474221
          ],
          "vectorType": "dense"
         },
         0,
         2
        ],
        [
         {
          "length": 5,
          "values": [
           1.0,
           0.3018867924528302,
           0.6202531920623882,
           0.537037037037037,
           0.453125
          ],
          "vectorType": "dense"
         },
         {
          "length": 3,
          "values": [
           0.6454695775331909,
           0.17959760508348707,
           0.17493281738332206
          ],
          "vectorType": "dense"
         },
         0,
         0
        ],
        [
         {
          "length": 5,
          "values": [
           1.0,
           0.30943399105431896,
           0.8987340396880591,
           0.3333333333333333,
           0.21875
          ],
          "vectorType": "dense"
         },
         {
          "length": 3,
          "values": [
           0.7746257720574786,
           0.036912448914920994,
           0.18846177902760028
          ],
          "vectorType": "dense"
         },
         0,
         0
        ],
        [
         {
          "length": 5,
          "values": [
           1.0,
           0.35094351138708724,
           0.5189872317504474,
           0.09259259259259259,
           0.234375
          ],
          "vectorType": "dense"
         },
         {
          "length": 3,
          "values": [
           0.746269745337996,
           0.06210395275380924,
           0.19162630190819496
          ],
          "vectorType": "dense"
         },
         0,
         2
        ],
        [
         {
          "length": 5,
          "values": [
           1.0,
           0.35471703871241156,
           0.5189872317504474,
           0.2037037037037037,
           0.15625
          ],
          "vectorType": "dense"
         },
         {
          "length": 3,
          "values": [
           0.7200111498798328,
           0.06854813332980286,
           0.21144071679036427
          ],
          "vectorType": "dense"
         },
         0,
         2
        ],
        [
         {
          "length": 5,
          "values": [
           1.0,
           0.3811321618422022,
           0.6708860515000994,
           0.2962962962962963,
           0.390625
          ],
          "vectorType": "dense"
         },
         {
          "length": 3,
          "values": [
           0.6879498011354862,
           0.09711378502087607,
           0.2149364138436378
          ],
          "vectorType": "dense"
         },
         0,
         0
        ],
        [
         {
          "length": 5,
          "values": [
           1.0,
           0.4150943396226415,
           0.8227848712497514,
           0.37037037037037035,
           0.484375
          ],
          "vectorType": "dense"
         },
         {
          "length": 3,
          "values": [
           0.6634703796991708,
           0.10040017260886429,
           0.23612944769196498
          ],
          "vectorType": "dense"
         },
         0,
         0
        ],
        [
         {
          "length": 5,
          "values": [
           1.0,
           0.45660385995540975,
           0.43037978809358224,
           0.2777777777777778,
           0.125
          ],
          "vectorType": "dense"
         },
         {
          "length": 3,
          "values": [
           0.5986747860102098,
           0.10908400730350488,
           0.2922412066862852
          ],
          "vectorType": "dense"
         },
         0,
         2
        ],
        [
         {
          "length": 5,
          "values": [
           1.0,
           0.45660385995540975,
           0.5822783664067159,
           0.4074074074074074,
           0.34375
          ],
          "vectorType": "dense"
         },
         {
          "length": 3,
          "values": [
           0.571194411531476,
           0.15288772890165322,
           0.27591785956687087
          ],
          "vectorType": "dense"
         },
         0,
         2
        ],
        [
         {
          "length": 5,
          "values": [
           1.0,
           0.4641510585568986,
           0.6962026019372142,
           0.2222222222222222,
           0.2109375
          ],
          "vectorType": "dense"
         },
         {
          "length": 3,
          "values": [
           0.6523209543239298,
           0.06093916059090096,
           0.2867398850851694
          ],
          "vectorType": "dense"
         },
         0,
         2
        ],
        [
         {
          "length": 5,
          "values": [
           1.0,
           0.46792458588222285,
           0.48101264753129347,
           0.37037037037037035,
           0.203125
          ],
          "vectorType": "dense"
         },
         {
          "length": 3,
          "values": [
           0.5634165361492475,
           0.1384179817858458,
           0.29816548206490673
          ],
          "vectorType": "dense"
         },
         0,
         2
        ],
        [
         {
          "length": 5,
          "values": [
           1.0,
           0.4716981132075472,
           0.7848100455940793,
           0.3333333333333333,
           0.2109375
          ],
          "vectorType": "dense"
         },
         {
          "length": 3,
          "values": [
           0.630417126164725,
           0.06303708495946159,
           0.3065457888758133
          ],
          "vectorType": "dense"
         },
         0,
         2
        ],
        [
         {
          "length": 5,
          "values": [
           1.0,
           0.49056603773584906,
           0.6329114672809455,
           0.037037037037037035,
           0.125
          ],
          "vectorType": "dense"
         },
         {
          "length": 3,
          "values": [
           0.6652675791868204,
           0.04092116008969226,
           0.29381126072348734
          ],
          "vectorType": "dense"
         },
         0,
         2
        ],
        [
         {
          "length": 5,
          "values": [
           1.0,
           0.5245283594671285,
           0.5189872317504474,
           0.16666666666666666,
           0.265625
          ],
          "vectorType": "dense"
         },
         {
          "length": 3,
          "values": [
           0.5806395551073021,
           0.10092789968131728,
           0.3184325452113805
          ],
          "vectorType": "dense"
         },
         0,
         2
        ],
        [
         {
          "length": 5,
          "values": [
           1.0,
           0.5471698113207547,
           0.6455695010629846,
           0.35185185185185186,
           0.3125
          ],
          "vectorType": "dense"
         },
         {
          "length": 3,
          "values": [
           0.5258500662633249,
           0.12309000796013891,
           0.3510599257765363
          ],
          "vectorType": "dense"
         },
         0,
         2
        ],
        [
         {
          "length": 5,
          "values": [
           1.0,
           0.6188679821086379,
           0.734177186156368,
           0.4444444444444444,
           0.296875
          ],
          "vectorType": "dense"
         },
         {
          "length": 3,
          "values": [
           0.4489865059090475,
           0.12375272563782012,
           0.4272607684531324
          ],
          "vectorType": "dense"
         },
         0,
         2
        ],
        [
         {
          "length": 5,
          "values": [
           1.0,
           0.6566038311652417,
           0.8101265960311941,
           0.4629629629629629,
           0.375
          ],
          "vectorType": "dense"
         },
         {
          "length": 3,
          "values": [
           0.4194092016375229,
           0.12900183347384148,
           0.45158896488863565
          ],
          "vectorType": "dense"
         },
         2,
         2
        ],
        [
         {
          "length": 5,
          "values": [
           1.0,
           0.6716982283682194,
           0.7468354613749254,
           0.37037037037037035,
           0.21875
          ],
          "vectorType": "dense"
         },
         {
          "length": 3,
          "values": [
           0.4241229271829043,
           0.09132542364082938,
           0.4845516491762665
          ],
          "vectorType": "dense"
         },
         2,
         2
        ],
        [
         {
          "length": 5,
          "values": [
           1.0,
           0.7018868788233343,
           0.8987340396880591,
           0.3333333333333333,
           0.2890625
          ],
          "vectorType": "dense"
         },
         {
          "length": 3,
          "values": [
           0.4265005977261378,
           0.0694431289772356,
           0.5040562732966266
          ],
          "vectorType": "dense"
         },
         2,
         2
        ],
        [
         {
          "length": 5,
          "values": [
           1.0,
           0.7132076047501473,
           0.9493671405622887,
           0.6296296296296295,
           0.609375
          ],
          "vectorType": "dense"
         },
         {
          "length": 3,
          "values": [
           0.33310784875332283,
           0.2072157445008768,
           0.45967640674580035
          ],
          "vectorType": "dense"
         },
         2,
         2
        ],
        [
         {
          "length": 5,
          "values": [
           1.0,
           0.93962269908977,
           0.5822783664067159,
           0.09259259259259259,
           0.265625
          ],
          "vectorType": "dense"
         },
         {
          "length": 3,
          "values": [
           0.24010067633390203,
           0.0907709288656063,
           0.6691283948004917
          ],
          "vectorType": "dense"
         },
         2,
         2
        ],
        [
         {
          "length": 5,
          "values": [
           2.0,
           0.049056718934257074,
           0.6582277762815419,
           0.14814814814814814,
           0.1484375
          ],
          "vectorType": "dense"
         },
         {
          "length": 3,
          "values": [
           0.9144285999610263,
           0.012652837570682973,
           0.07291856246829076
          ],
          "vectorType": "dense"
         },
         0,
         0
        ],
        [
         {
          "length": 5,
          "values": [
           2.0,
           0.09811329391767394,
           0.48101264753129347,
           0.24074074074074073,
           0.15625
          ],
          "vectorType": "dense"
         },
         {
          "length": 3,
          "values": [
           0.8755282945564007,
           0.029099451832635917,
           0.09537225361096331
          ],
          "vectorType": "dense"
         },
         0,
         0
        ],
        [
         {
          "length": 5,
          "values": [
           2.0,
           0.11698121844597582,
           0.36708865343731356,
           0.2037037037037037,
           0.21875
          ],
          "vectorType": "dense"
         },
         {
          "length": 3,
          "values": [
           0.8591434677471388,
           0.04253811761106196,
           0.09831841464179916
          ],
          "vectorType": "dense"
         },
         0,
         0
        ],
        [
         {
          "length": 5,
          "values": [
           2.0,
           0.17358499203088149,
           0.8354429050317905,
           0.4074074074074074,
           0.203125
          ],
          "vectorType": "dense"
         },
         {
          "length": 3,
          "values": [
           0.8469684191201639,
           0.022428661691886877,
           0.13060291918794917
          ],
          "vectorType": "dense"
         },
         0,
         0
        ],
        [
         {
          "length": 5,
          "values": [
           2.0,
           0.17735851935620578,
           0.49367092274985086,
           0.18518518518518517,
           0.140625
          ],
          "vectorType": "dense"
         },
         {
          "length": 3,
          "values": [
           0.8489368919346634,
           0.02838539694875369,
           0.12267771111658285
          ],
          "vectorType": "dense"
         },
         0,
         0
        ],
        [
         {
          "length": 5,
          "values": [
           2.0,
           0.22264156701429835,
           0.49367092274985086,
           0.2777777777777778,
           0.0625
          ],
          "vectorType": "dense"
         },
         {
          "length": 3,
          "values": [
           0.8104799403033389,
           0.03311974208774765,
           0.15640031760891349
          ],
          "vectorType": "dense"
         },
         0,
         0
        ],
        [
         {
          "length": 5,
          "values": [
           2.0,
           0.23018876561578713,
           0.8101265960311941,
           0.35185185185185186,
           0.5703125
          ],
          "vectorType": "dense"
         },
         {
          "length": 3,
          "values": [
           0.8160868850107259,
           0.050854379915111325,
           0.13305873507416288
          ],
          "vectorType": "dense"
         },
         0,
         0
        ],
        [
         {
          "length": 5,
          "values": [
           2.0,
           0.24150949154260024,
           0.5316455069690047,
           0.18518518518518517,
           0.296875
          ],
          "vectorType": "dense"
         },
         {
          "length": 3,
          "values": [
           0.8157744691553385,
           0.04080863676383821,
           0.14341689408082328
          ],
          "vectorType": "dense"
         },
         0,
         0
        ],
        [
         {
          "length": 5,
          "values": [
           2.0,
           0.24528301886792453,
           0.5063291979684083,
           0.37037037037037035,
           0.21875
          ],
          "vectorType": "dense"
         },
         {
          "length": 3,
          "values": [
           0.775791735903154,
           0.05768901897543649,
           0.16651924512140967
          ],
          "vectorType": "dense"
         },
         0,
         0
        ],
        [
         {
          "length": 5,
          "values": [
           2.0,
           0.24905669014408902,
           0.6582277762815419,
           0.25925925925925924,
           0.328125
          ],
          "vectorType": "dense"
         },
         {
          "length": 3,
          "values": [
           0.8117997842465101,
           0.03801368338628194,
           0.15018653236720791
          ],
          "vectorType": "dense"
         },
         0,
         0
        ],
        [
         {
          "length": 5,
          "values": [
           2.0,
           0.2679246146723909,
           0.48101264753129347,
           0.0,
           0.1875
          ],
          "vectorType": "dense"
         },
         {
          "length": 3,
          "values": [
           0.8278373167064624,
           0.02506913395785037,
           0.1470935493356873
          ],
          "vectorType": "dense"
         },
         0,
         0
        ],
        [
         {
          "length": 5,
          "values": [
           2.0,
           0.2716981419977152,
           0.6075949168438307,
           0.35185185185185186,
           0.125
          ],
          "vectorType": "dense"
         },
         {
          "length": 3,
          "values": [
           0.7776119836382295,
           0.03687285976553396,
           0.1855151565962366
          ],
          "vectorType": "dense"
         },
         0,
         0
        ],
        [
         {
          "length": 5,
          "values": [
           2.0,
           0.2943397378021816,
           0.4556960970941787,
           0.2777777777777778,
           0.265625
          ],
          "vectorType": "dense"
         },
         {
          "length": 3,
          "values": [
           0.7537069393075073,
           0.06391099794550976,
           0.18238206274698293
          ],
          "vectorType": "dense"
         },
         0,
         0
        ],
        [
         {
          "length": 5,
          "values": [
           2.0,
           0.31320766233048347,
           0.6708860515000994,
           0.48148148148148145,
           0.3203125
          ],
          "vectorType": "dense"
         },
         {
          "length": 3,
          "values": [
           0.7233184382849196,
           0.06846673630035541,
           0.20821482541472522
          ],
          "vectorType": "dense"
         },
         0,
         0
        ],
        [
         {
          "length": 5,
          "values": [
           2.0,
           0.35471703871241156,
           0.9493671405622887,
           0.38888888888888884,
           0.515625
          ],
          "vectorType": "dense"
         },
         {
          "length": 3,
          "values": [
           0.7486790264555568,
           0.044091451369870305,
           0.20722952217457294
          ],
          "vectorType": "dense"
         },
         0,
         0
        ],
        [
         {
          "length": 5,
          "values": [
           2.0,
           0.3698114359153891,
           0.5569620574061195,
           0.37037037037037035,
           0.578125
          ],
          "vectorType": "dense"
         },
         {
          "length": 3,
          "values": [
           0.6648877604861924,
           0.12957418319358024,
           0.20553805632022754
          ],
          "vectorType": "dense"
         },
         0,
         0
        ]
       ],
       "datasetInfos": [],
       "dbfsResultPath": null,
       "isJsonSchema": true,
       "metadata": {},
       "overflow": false,
       "plotOptions": {
        "customPlotOptions": {},
        "displayType": "table",
        "pivotAggregation": null,
        "pivotColumns": null,
        "xColumns": null,
        "yColumns": null
       },
       "removedWidgets": [],
       "schema": [
        {
         "metadata": "{\"ml_attr\":{\"attrs\":{\"numeric\":[{\"idx\":1,\"name\":\"normalizedFeatures_0\"},{\"idx\":2,\"name\":\"normalizedFeatures_1\"},{\"idx\":3,\"name\":\"normalizedFeatures_2\"},{\"idx\":4,\"name\":\"normalizedFeatures_3\"}],\"nominal\":[{\"vals\":[\"Biscoe\",\"Dream\",\"Torgersen\"],\"idx\":0,\"name\":\"IslandIdx\"}]},\"num_attrs\":5}}",
         "name": "features",
         "type": "{\"type\":\"udt\",\"class\":\"org.apache.spark.ml.linalg.VectorUDT\",\"pyClass\":\"pyspark.ml.linalg.VectorUDT\",\"sqlType\":{\"type\":\"struct\",\"fields\":[{\"name\":\"type\",\"type\":\"byte\",\"nullable\":false,\"metadata\":{}},{\"name\":\"size\",\"type\":\"integer\",\"nullable\":true,\"metadata\":{}},{\"name\":\"indices\",\"type\":{\"type\":\"array\",\"elementType\":\"integer\",\"containsNull\":false},\"nullable\":true,\"metadata\":{}},{\"name\":\"values\",\"type\":{\"type\":\"array\",\"elementType\":\"double\",\"containsNull\":false},\"nullable\":true,\"metadata\":{}}]}}"
        },
        {
         "metadata": "{\"ml_attr\":{\"num_attrs\":3}}",
         "name": "probability",
         "type": "{\"type\":\"udt\",\"class\":\"org.apache.spark.ml.linalg.VectorUDT\",\"pyClass\":\"pyspark.ml.linalg.VectorUDT\",\"sqlType\":{\"type\":\"struct\",\"fields\":[{\"name\":\"type\",\"type\":\"byte\",\"nullable\":false,\"metadata\":{}},{\"name\":\"size\",\"type\":\"integer\",\"nullable\":true,\"metadata\":{}},{\"name\":\"indices\",\"type\":{\"type\":\"array\",\"elementType\":\"integer\",\"containsNull\":false},\"nullable\":true,\"metadata\":{}},{\"name\":\"values\",\"type\":{\"type\":\"array\",\"elementType\":\"double\",\"containsNull\":false},\"nullable\":true,\"metadata\":{}}]}}"
        },
        {
         "metadata": "{}",
         "name": "prediction",
         "type": "\"integer\""
        },
        {
         "metadata": "{}",
         "name": "trueLabel",
         "type": "\"integer\""
        }
       ],
       "type": "table"
      }
     },
     "output_type": "display_data"
    }
   ],
   "source": [
    "# Prepare the test data\n",
    "indexedTestData = indexer.fit(test).transform(test).drop(\"Island\")\n",
    "vectorizedTestData = numericColVector.transform(indexedTestData)\n",
    "scaledTestData = minMax.fit(vectorizedTestData).transform(vectorizedTestData)\n",
    "preppedTestData = featVect.transform(scaledTestData)[col(\"featuresVector\").alias(\"features\"), col(\"Species\").alias(\"label\")]\n",
    "   \n",
    "# Get predictions\n",
    "prediction = model.transform(preppedTestData)\n",
    "predicted = prediction.select(\"features\", \"probability\", col(\"prediction\").astype(\"Int\"), col(\"label\").alias(\"trueLabel\"))\n",
    "display(predicted)"
   ]
  },
  {
   "cell_type": "markdown",
   "metadata": {
    "application/vnd.databricks.v1+cell": {
     "cellMetadata": {},
     "inputWidgets": {},
     "nuid": "f5cbef47-280f-4660-bee0-8dc6bcf951fb",
     "showTitle": false,
     "tableResultSettingsMap": {},
     "title": ""
    }
   },
   "source": [
    "**The results include the following columns:**\n",
    "\n",
    "- **features**: The prepared features data from the test dataset.\n",
    "- **probability**: The probability calculated by the model for each class. This consists of a vector containing three probability values (because there are three classes) which add up to a total of 1.0 (its assumed that there’s a 100% probability that the penguin belongs to one of the three species classes).\n",
    "- **prediction**: The predicted class label (the one with the highest probability).\n",
    "- **trueLabel**: The actual known label value from the test data."
   ]
  },
  {
   "cell_type": "markdown",
   "metadata": {
    "application/vnd.databricks.v1+cell": {
     "cellMetadata": {},
     "inputWidgets": {},
     "nuid": "a44f0204-a4e7-4fde-bcd1-ae98b68268a6",
     "showTitle": false,
     "tableResultSettingsMap": {},
     "title": ""
    }
   },
   "source": [
    "Get evaluation metrics for a classification model based on the results from the test data:"
   ]
  },
  {
   "cell_type": "code",
   "execution_count": 0,
   "metadata": {
    "application/vnd.databricks.v1+cell": {
     "cellMetadata": {
      "byteLimit": 2048000,
      "rowLimit": 10000
     },
     "inputWidgets": {},
     "nuid": "299acd9a-1017-4a9d-a3f5-b9a6732cfdba",
     "showTitle": false,
     "tableResultSettingsMap": {},
     "title": ""
    }
   },
   "outputs": [
    {
     "output_type": "stream",
     "name": "stdout",
     "output_type": "stream",
     "text": [
      "Accuracy: 0.8909090909090909\n\nIndividual class metrics:\nClass 0\n\tPrecision: 0.8095238095238095\n\tRecall: 1.0\n\tF1 Score: 0.8947368421052632\nClass 1\n\tPrecision: 1.0\n\tRecall: 1.0\n\tF1 Score: 1.0\nClass 2\n\tPrecision: 1.0\n\tRecall: 0.29411764705882354\n\tF1 Score: 0.45454545454545453\nOverall Precision: 0.9116883116883117\nOverall Recall: 0.8909090909090909\nOverall F1 Score: 0.8668986515876469\n"
     ]
    }
   ],
   "source": [
    "from pyspark.ml.evaluation import MulticlassClassificationEvaluator\n",
    "   \n",
    "evaluator = MulticlassClassificationEvaluator(labelCol=\"label\", predictionCol=\"prediction\")\n",
    "   \n",
    "# Simple accuracy\n",
    "accuracy = evaluator.evaluate(prediction, {evaluator.metricName:\"accuracy\"})\n",
    "print(\"Accuracy:\", accuracy)\n",
    "   \n",
    "# Individual class metrics\n",
    "labels = [0,1,2]\n",
    "print(\"\\nIndividual class metrics:\")\n",
    "for label in sorted(labels):\n",
    "    print (\"Class %s\" % (label))\n",
    "   \n",
    "    # Precision\n",
    "    precision = evaluator.evaluate(prediction, {evaluator.metricLabel:label,\n",
    "                                                evaluator.metricName:\"precisionByLabel\"})\n",
    "    print(\"\\tPrecision:\", precision)\n",
    "   \n",
    "    # Recall\n",
    "    recall = evaluator.evaluate(prediction, {evaluator.metricLabel:label,\n",
    "                                             evaluator.metricName:\"recallByLabel\"})\n",
    "    print(\"\\tRecall:\", recall)\n",
    "   \n",
    "    # F1 score\n",
    "    f1 = evaluator.evaluate(prediction, {evaluator.metricLabel:label,\n",
    "                                         evaluator.metricName:\"fMeasureByLabel\"})\n",
    "    print(\"\\tF1 Score:\", f1)\n",
    "   \n",
    "# Weighted (overall) metrics\n",
    "overallPrecision = evaluator.evaluate(prediction, {evaluator.metricName:\"weightedPrecision\"})\n",
    "print(\"Overall Precision:\", overallPrecision)\n",
    "overallRecall = evaluator.evaluate(prediction, {evaluator.metricName:\"weightedRecall\"})\n",
    "print(\"Overall Recall:\", overallRecall)\n",
    "overallF1 = evaluator.evaluate(prediction, {evaluator.metricName:\"weightedFMeasure\"})\n",
    "print(\"Overall F1 Score:\", overallF1)"
   ]
  },
  {
   "cell_type": "markdown",
   "metadata": {
    "application/vnd.databricks.v1+cell": {
     "cellMetadata": {},
     "inputWidgets": {},
     "nuid": "986d3856-4bea-4a77-a8a9-5f704e4be683",
     "showTitle": false,
     "tableResultSettingsMap": {},
     "title": ""
    }
   },
   "source": [
    "The evaluation metrics that are calculated for multiclass classification include:\n",
    "\n",
    "- **Accuracy**: The proportion of overall predictions that were correct.\n",
    "- Per-class metrics:\n",
    "  - **Precision**: The proportion of predictions of this class that were correct.\n",
    "  - **Recall**: The proportion of actual instances of this class that were correctly predicted.\n",
    "  - **F1 score**: A combined metric for precision and recall\n",
    "- Combined (weighted) precision, recall, and F1 metrics for all classes."
   ]
  },
  {
   "cell_type": "markdown",
   "metadata": {
    "application/vnd.databricks.v1+cell": {
     "cellMetadata": {},
     "inputWidgets": {},
     "nuid": "46609b20-c387-4cc8-be36-912b4b4dba9c",
     "showTitle": false,
     "tableResultSettingsMap": {},
     "title": ""
    }
   },
   "source": [
    "### Use a pipeline\n",
    "\n",
    "A more efficient way to build and use models is to encapsulate the transformers used to prepare the data and the model used to train it in a pipeline."
   ]
  },
  {
   "cell_type": "code",
   "execution_count": 0,
   "metadata": {
    "application/vnd.databricks.v1+cell": {
     "cellMetadata": {
      "byteLimit": 2048000,
      "rowLimit": 10000
     },
     "inputWidgets": {},
     "nuid": "c71a31db-7fbe-4fac-9406-622e3b3f5b5e",
     "showTitle": false,
     "tableResultSettingsMap": {},
     "title": ""
    }
   },
   "outputs": [
    {
     "output_type": "stream",
     "name": "stdout",
     "output_type": "stream",
     "text": [
      "Model trained!\n"
     ]
    }
   ],
   "source": [
    "from pyspark.ml import Pipeline\n",
    "from pyspark.ml.feature import StringIndexer, VectorAssembler, MinMaxScaler\n",
    "from pyspark.ml.classification import LogisticRegression\n",
    "   \n",
    "catFeature = \"Island\"\n",
    "numFeatures = [\"CulmenLength\", \"CulmenDepth\", \"FlipperLength\", \"BodyMass\"]\n",
    "   \n",
    "# Define the feature engineering and model training algorithm steps\n",
    "catIndexer = StringIndexer(inputCol=catFeature, outputCol=catFeature + \"Idx\")\n",
    "numVector = VectorAssembler(inputCols=numFeatures, outputCol=\"numericFeatures\")\n",
    "numScaler = MinMaxScaler(inputCol = numVector.getOutputCol(), outputCol=\"normalizedFeatures\")\n",
    "featureVector = VectorAssembler(inputCols=[\"IslandIdx\", \"normalizedFeatures\"], outputCol=\"Features\")\n",
    "algo = LogisticRegression(labelCol=\"Species\", featuresCol=\"Features\", maxIter=10, regParam=0.3)\n",
    "   \n",
    "# Chain the steps as stages in a pipeline\n",
    "pipeline = Pipeline(stages=[catIndexer, numVector, numScaler, featureVector, algo])\n",
    "   \n",
    "# Use the pipeline to prepare data and fit the model algorithm\n",
    "model = pipeline.fit(train)\n",
    "print (\"Model trained!\")"
   ]
  },
  {
   "cell_type": "markdown",
   "metadata": {
    "application/vnd.databricks.v1+cell": {
     "cellMetadata": {},
     "inputWidgets": {},
     "nuid": "2998b44d-3814-4414-a7eb-fa2c92f09f6d",
     "showTitle": false,
     "tableResultSettingsMap": {},
     "title": ""
    }
   },
   "source": [
    "**Apply the pipeline to the test data**"
   ]
  },
  {
   "cell_type": "code",
   "execution_count": 0,
   "metadata": {
    "application/vnd.databricks.v1+cell": {
     "cellMetadata": {
      "byteLimit": 2048000,
      "rowLimit": 10000
     },
     "inputWidgets": {},
     "nuid": "941919e0-9fc7-407c-a928-d2ccebaae739",
     "showTitle": false,
     "tableResultSettingsMap": {},
     "title": ""
    }
   },
   "outputs": [
    {
     "output_type": "display_data",
     "data": {
      "text/html": [
       "<style scoped>\n",
       "  .table-result-container {\n",
       "    max-height: 300px;\n",
       "    overflow: auto;\n",
       "  }\n",
       "  table, th, td {\n",
       "    border: 1px solid black;\n",
       "    border-collapse: collapse;\n",
       "  }\n",
       "  th, td {\n",
       "    padding: 5px;\n",
       "  }\n",
       "  th {\n",
       "    text-align: left;\n",
       "  }\n",
       "</style><div class='table-result-container'><table class='table-result'><thead style='background-color: white'><tr><th>Features</th><th>probability</th><th>prediction</th><th>trueLabel</th></tr></thead><tbody><tr><td>Map(vectorType -> dense, length -> 5, values -> List(0.0, 0.13445379632853066, 0.6904761310067009, 0.2542372881355932, 0.3055555555555556))</td><td>Map(vectorType -> dense, length -> 3, values -> List(0.8343748232932918, 0.07321510217287593, 0.09241007453383218))</td><td>0</td><td>0</td></tr><tr><td>Map(vectorType -> dense, length -> 5, values -> List(0.0, 0.15126058097511344, 0.4523808820988284, 0.22033898305084745, 0.125))</td><td>Map(vectorType -> dense, length -> 3, values -> List(0.8062933109314849, 0.0887624963245295, 0.10494419274398556))</td><td>0</td><td>0</td></tr><tr><td>Map(vectorType -> dense, length -> 5, values -> List(0.0, 0.18487398998690183, 0.416666685588777, 0.15254237288135594, 0.041666666666666664))</td><td>Map(vectorType -> dense, length -> 3, values -> List(0.8060558551933897, 0.07543643104273086, 0.1185077137638796))</td><td>0</td><td>0</td></tr><tr><td>Map(vectorType -> dense, length -> 5, values -> List(0.0, 0.23109240734293868, 0.46428568995728675, 0.22033898305084745, 0.25))</td><td>Map(vectorType -> dense, length -> 3, values -> List(0.7436768681300743, 0.12855197945523753, 0.12777115241468823))</td><td>0</td><td>0</td></tr><tr><td>Map(vectorType -> dense, length -> 5, values -> List(0.0, 0.23949579966623008, 0.8214285633190956, 0.3050847457627119, 0.4305555555555556))</td><td>Map(vectorType -> dense, length -> 3, values -> List(0.7774307645824201, 0.09469051669940122, 0.12787871871817852))</td><td>0</td><td>0</td></tr><tr><td>Map(vectorType -> dense, length -> 5, values -> List(0.0, 0.25210080801047857, 0.46428568995728675, 0.15254237288135594, 0.13194444444444445))</td><td>Map(vectorType -> dense, length -> 3, values -> List(0.7663484151314317, 0.09169398082984477, 0.14195760403872348))</td><td>0</td><td>0</td></tr><tr><td>Map(vectorType -> dense, length -> 5, values -> List(0.0, 0.3151260100130982, 0.9047619912629805, 0.3220338983050847, 0.3333333333333333))</td><td>Map(vectorType -> dense, length -> 3, values -> List(0.7501739617873091, 0.07627757064917157, 0.17354846756351935))</td><td>0</td><td>0</td></tr><tr><td>Map(vectorType -> dense, length -> 5, values -> List(0.0, 0.35294119532722085, 0.5714285065527647, 0.2542372881355932, 0.1388888888888889))</td><td>Map(vectorType -> dense, length -> 3, values -> List(0.6887886233281758, 0.10735127722674817, 0.2038600994450761))</td><td>0</td><td>0</td></tr><tr><td>Map(vectorType -> dense, length -> 5, values -> List(0.0, 0.35294119532722085, 0.6904761310067009, 0.13559322033898305, 0.3472222222222222))</td><td>Map(vectorType -> dense, length -> 3, values -> List(0.729508897725432, 0.09366552729004732, 0.17682557498452067))</td><td>0</td><td>0</td></tr><tr><td>Map(vectorType -> dense, length -> 5, values -> List(0.0, 0.3991596126832577, 0.583333314411223, 0.3389830508474576, 0.3472222222222222))</td><td>Map(vectorType -> dense, length -> 3, values -> List(0.593441799921908, 0.19682465306148222, 0.20973354701660973))</td><td>0</td><td>0</td></tr></tbody></table></div>"
      ]
     },
     "metadata": {
      "application/vnd.databricks.v1+output": {
       "addedWidgets": {},
       "aggData": [],
       "aggError": "",
       "aggOverflow": false,
       "aggSchema": [],
       "aggSeriesLimitReached": false,
       "aggType": "",
       "arguments": {},
       "columnCustomDisplayInfos": {},
       "data": [
        [
         {
          "length": 5,
          "values": [
           0.0,
           0.13445379632853066,
           0.6904761310067009,
           0.2542372881355932,
           0.3055555555555556
          ],
          "vectorType": "dense"
         },
         {
          "length": 3,
          "values": [
           0.8343748232932918,
           0.07321510217287593,
           0.09241007453383218
          ],
          "vectorType": "dense"
         },
         0,
         0
        ],
        [
         {
          "length": 5,
          "values": [
           0.0,
           0.15126058097511344,
           0.4523808820988284,
           0.22033898305084745,
           0.125
          ],
          "vectorType": "dense"
         },
         {
          "length": 3,
          "values": [
           0.8062933109314849,
           0.0887624963245295,
           0.10494419274398556
          ],
          "vectorType": "dense"
         },
         0,
         0
        ],
        [
         {
          "length": 5,
          "values": [
           0.0,
           0.18487398998690183,
           0.416666685588777,
           0.15254237288135594,
           0.041666666666666664
          ],
          "vectorType": "dense"
         },
         {
          "length": 3,
          "values": [
           0.8060558551933897,
           0.07543643104273086,
           0.1185077137638796
          ],
          "vectorType": "dense"
         },
         0,
         0
        ],
        [
         {
          "length": 5,
          "values": [
           0.0,
           0.23109240734293868,
           0.46428568995728675,
           0.22033898305084745,
           0.25
          ],
          "vectorType": "dense"
         },
         {
          "length": 3,
          "values": [
           0.7436768681300743,
           0.12855197945523753,
           0.12777115241468823
          ],
          "vectorType": "dense"
         },
         0,
         0
        ],
        [
         {
          "length": 5,
          "values": [
           0.0,
           0.23949579966623008,
           0.8214285633190956,
           0.3050847457627119,
           0.4305555555555556
          ],
          "vectorType": "dense"
         },
         {
          "length": 3,
          "values": [
           0.7774307645824201,
           0.09469051669940122,
           0.12787871871817852
          ],
          "vectorType": "dense"
         },
         0,
         0
        ],
        [
         {
          "length": 5,
          "values": [
           0.0,
           0.25210080801047857,
           0.46428568995728675,
           0.15254237288135594,
           0.13194444444444445
          ],
          "vectorType": "dense"
         },
         {
          "length": 3,
          "values": [
           0.7663484151314317,
           0.09169398082984477,
           0.14195760403872348
          ],
          "vectorType": "dense"
         },
         0,
         0
        ],
        [
         {
          "length": 5,
          "values": [
           0.0,
           0.3151260100130982,
           0.9047619912629805,
           0.3220338983050847,
           0.3333333333333333
          ],
          "vectorType": "dense"
         },
         {
          "length": 3,
          "values": [
           0.7501739617873091,
           0.07627757064917157,
           0.17354846756351935
          ],
          "vectorType": "dense"
         },
         0,
         0
        ],
        [
         {
          "length": 5,
          "values": [
           0.0,
           0.35294119532722085,
           0.5714285065527647,
           0.2542372881355932,
           0.1388888888888889
          ],
          "vectorType": "dense"
         },
         {
          "length": 3,
          "values": [
           0.6887886233281758,
           0.10735127722674817,
           0.2038600994450761
          ],
          "vectorType": "dense"
         },
         0,
         0
        ],
        [
         {
          "length": 5,
          "values": [
           0.0,
           0.35294119532722085,
           0.6904761310067009,
           0.13559322033898305,
           0.3472222222222222
          ],
          "vectorType": "dense"
         },
         {
          "length": 3,
          "values": [
           0.729508897725432,
           0.09366552729004732,
           0.17682557498452067
          ],
          "vectorType": "dense"
         },
         0,
         0
        ],
        [
         {
          "length": 5,
          "values": [
           0.0,
           0.3991596126832577,
           0.583333314411223,
           0.3389830508474576,
           0.3472222222222222
          ],
          "vectorType": "dense"
         },
         {
          "length": 3,
          "values": [
           0.593441799921908,
           0.19682465306148222,
           0.20973354701660973
          ],
          "vectorType": "dense"
         },
         0,
         0
        ]
       ],
       "datasetInfos": [],
       "dbfsResultPath": null,
       "isJsonSchema": true,
       "metadata": {},
       "overflow": false,
       "plotOptions": {
        "customPlotOptions": {},
        "displayType": "table",
        "pivotAggregation": null,
        "pivotColumns": null,
        "xColumns": null,
        "yColumns": null
       },
       "removedWidgets": [],
       "schema": [
        {
         "metadata": "{\"ml_attr\":{\"attrs\":{\"numeric\":[{\"idx\":1,\"name\":\"normalizedFeatures_0\"},{\"idx\":2,\"name\":\"normalizedFeatures_1\"},{\"idx\":3,\"name\":\"normalizedFeatures_2\"},{\"idx\":4,\"name\":\"normalizedFeatures_3\"}],\"nominal\":[{\"vals\":[\"Biscoe\",\"Dream\",\"Torgersen\"],\"idx\":0,\"name\":\"IslandIdx\"}]},\"num_attrs\":5}}",
         "name": "Features",
         "type": "{\"type\":\"udt\",\"class\":\"org.apache.spark.ml.linalg.VectorUDT\",\"pyClass\":\"pyspark.ml.linalg.VectorUDT\",\"sqlType\":{\"type\":\"struct\",\"fields\":[{\"name\":\"type\",\"type\":\"byte\",\"nullable\":false,\"metadata\":{}},{\"name\":\"size\",\"type\":\"integer\",\"nullable\":true,\"metadata\":{}},{\"name\":\"indices\",\"type\":{\"type\":\"array\",\"elementType\":\"integer\",\"containsNull\":false},\"nullable\":true,\"metadata\":{}},{\"name\":\"values\",\"type\":{\"type\":\"array\",\"elementType\":\"double\",\"containsNull\":false},\"nullable\":true,\"metadata\":{}}]}}"
        },
        {
         "metadata": "{\"ml_attr\":{\"num_attrs\":3}}",
         "name": "probability",
         "type": "{\"type\":\"udt\",\"class\":\"org.apache.spark.ml.linalg.VectorUDT\",\"pyClass\":\"pyspark.ml.linalg.VectorUDT\",\"sqlType\":{\"type\":\"struct\",\"fields\":[{\"name\":\"type\",\"type\":\"byte\",\"nullable\":false,\"metadata\":{}},{\"name\":\"size\",\"type\":\"integer\",\"nullable\":true,\"metadata\":{}},{\"name\":\"indices\",\"type\":{\"type\":\"array\",\"elementType\":\"integer\",\"containsNull\":false},\"nullable\":true,\"metadata\":{}},{\"name\":\"values\",\"type\":{\"type\":\"array\",\"elementType\":\"double\",\"containsNull\":false},\"nullable\":true,\"metadata\":{}}]}}"
        },
        {
         "metadata": "{}",
         "name": "prediction",
         "type": "\"integer\""
        },
        {
         "metadata": "{}",
         "name": "trueLabel",
         "type": "\"integer\""
        }
       ],
       "type": "table"
      }
     },
     "output_type": "display_data"
    }
   ],
   "source": [
    "prediction = model.transform(test)\n",
    "predicted = prediction.select(\"Features\", \"probability\", col(\"prediction\").astype(\"Int\"), col(\"Species\").alias(\"trueLabel\"))\n",
    "display(predicted.limit(10))"
   ]
  },
  {
   "cell_type": "markdown",
   "metadata": {
    "application/vnd.databricks.v1+cell": {
     "cellMetadata": {},
     "inputWidgets": {},
     "nuid": "088c5cf6-dd3b-4c33-995e-408b3c489e60",
     "showTitle": false,
     "tableResultSettingsMap": {},
     "title": ""
    }
   },
   "source": [
    "### Try a different algorithm"
   ]
  },
  {
   "cell_type": "code",
   "execution_count": 0,
   "metadata": {
    "application/vnd.databricks.v1+cell": {
     "cellMetadata": {
      "byteLimit": 2048000,
      "rowLimit": 10000
     },
     "inputWidgets": {},
     "nuid": "1be7b2ac-9322-4394-80be-e3581e913659",
     "showTitle": false,
     "tableResultSettingsMap": {},
     "title": ""
    }
   },
   "outputs": [
    {
     "output_type": "stream",
     "name": "stdout",
     "output_type": "stream",
     "text": [
      "Model trained!\n"
     ]
    }
   ],
   "source": [
    "from pyspark.ml import Pipeline\n",
    "from pyspark.ml.feature import StringIndexer, VectorAssembler, MinMaxScaler\n",
    "from pyspark.ml.classification import DecisionTreeClassifier\n",
    "   \n",
    "catFeature = \"Island\"\n",
    "numFeatures = [\"CulmenLength\", \"CulmenDepth\", \"FlipperLength\", \"BodyMass\"]\n",
    "   \n",
    "# Define the feature engineering and model steps\n",
    "catIndexer = StringIndexer(inputCol=catFeature, outputCol=catFeature + \"Idx\")\n",
    "numVector = VectorAssembler(inputCols=numFeatures, outputCol=\"numericFeatures\")\n",
    "numScaler = MinMaxScaler(inputCol = numVector.getOutputCol(), outputCol=\"normalizedFeatures\")\n",
    "featureVector = VectorAssembler(inputCols=[\"IslandIdx\", \"normalizedFeatures\"], outputCol=\"Features\")\n",
    "algo = DecisionTreeClassifier(labelCol=\"Species\", featuresCol=\"Features\", maxDepth=10)\n",
    "   \n",
    "# Chain the steps as stages in a pipeline\n",
    "pipeline = Pipeline(stages=[catIndexer, numVector, numScaler, featureVector, algo])\n",
    "   \n",
    "# Use the pipeline to prepare data and fit the model algorithm\n",
    "model = pipeline.fit(train)\n",
    "print (\"Model trained!\")"
   ]
  },
  {
   "cell_type": "code",
   "execution_count": 0,
   "metadata": {
    "application/vnd.databricks.v1+cell": {
     "cellMetadata": {
      "byteLimit": 2048000,
      "rowLimit": 10000
     },
     "inputWidgets": {},
     "nuid": "4cfe9cab-f5da-4ae0-a356-2bb4bece6ba3",
     "showTitle": false,
     "tableResultSettingsMap": {},
     "title": ""
    }
   },
   "outputs": [
    {
     "output_type": "stream",
     "name": "stdout",
     "output_type": "stream",
     "text": [
      "Accuracy: 0.9545454545454546\n\nIndividual class metrics:\nClass 0\n\tPrecision: 0.9423076923076923\n\tRecall: 0.9607843137254902\n\tF1 Score: 0.9514563106796117\nClass 1\n\tPrecision: 1.0\n\tRecall: 1.0\n\tF1 Score: 1.0\nClass 2\n\tPrecision: 0.875\n\tRecall: 0.8235294117647058\n\tF1 Score: 0.8484848484848485\nOverall Precision: 0.9539335664335664\nOverall Recall: 0.9545454545454545\nOverall F1 Score: 0.9540774024445693\n"
     ]
    }
   ],
   "source": [
    "# Get predictions\n",
    "prediction = model.transform(test)\n",
    "predicted = prediction.select(\"Features\", \"probability\", col(\"prediction\").astype(\"Int\"), col(\"Species\").alias(\"trueLabel\"))\n",
    "   \n",
    "# Generate evaluation metrics\n",
    "from pyspark.ml.evaluation import MulticlassClassificationEvaluator\n",
    "   \n",
    "evaluator = MulticlassClassificationEvaluator(labelCol=\"Species\", predictionCol=\"prediction\")\n",
    "   \n",
    "# Simple accuracy\n",
    "accuracy = evaluator.evaluate(prediction, {evaluator.metricName:\"accuracy\"})\n",
    "print(\"Accuracy:\", accuracy)\n",
    "   \n",
    "# Class metrics\n",
    "labels = [0,1,2]\n",
    "print(\"\\nIndividual class metrics:\")\n",
    "for label in sorted(labels):\n",
    "    print (\"Class %s\" % (label))\n",
    "   \n",
    "    # Precision\n",
    "    precision = evaluator.evaluate(prediction, {evaluator.metricLabel:label,\n",
    "                                                    evaluator.metricName:\"precisionByLabel\"})\n",
    "    print(\"\\tPrecision:\", precision)\n",
    "   \n",
    "    # Recall\n",
    "    recall = evaluator.evaluate(prediction, {evaluator.metricLabel:label,\n",
    "                                             evaluator.metricName:\"recallByLabel\"})\n",
    "    print(\"\\tRecall:\", recall)\n",
    "   \n",
    "    # F1 score\n",
    "    f1 = evaluator.evaluate(prediction, {evaluator.metricLabel:label,\n",
    "                                         evaluator.metricName:\"fMeasureByLabel\"})\n",
    "    print(\"\\tF1 Score:\", f1)\n",
    "   \n",
    "# Weighed (overall) metrics\n",
    "overallPrecision = evaluator.evaluate(prediction, {evaluator.metricName:\"weightedPrecision\"})\n",
    "print(\"Overall Precision:\", overallPrecision)\n",
    "overallRecall = evaluator.evaluate(prediction, {evaluator.metricName:\"weightedRecall\"})\n",
    "print(\"Overall Recall:\", overallRecall)\n",
    "overallF1 = evaluator.evaluate(prediction, {evaluator.metricName:\"weightedFMeasure\"})\n",
    "print(\"Overall F1 Score:\", overallF1)"
   ]
  },
  {
   "cell_type": "markdown",
   "metadata": {
    "application/vnd.databricks.v1+cell": {
     "cellMetadata": {},
     "inputWidgets": {},
     "nuid": "dcd75825-5ac9-4a2b-a195-073f4b44ffaa",
     "showTitle": false,
     "tableResultSettingsMap": {},
     "title": ""
    }
   },
   "source": [
    "### Save the model"
   ]
  },
  {
   "cell_type": "code",
   "execution_count": 0,
   "metadata": {
    "application/vnd.databricks.v1+cell": {
     "cellMetadata": {
      "byteLimit": 2048000,
      "rowLimit": 10000
     },
     "inputWidgets": {},
     "nuid": "776b0133-7ee7-4fed-a0f8-1cb69d0838e1",
     "showTitle": false,
     "tableResultSettingsMap": {},
     "title": ""
    }
   },
   "outputs": [],
   "source": [
    "model.save(\"/models/newpenguin.model\")"
   ]
  },
  {
   "cell_type": "markdown",
   "metadata": {
    "application/vnd.databricks.v1+cell": {
     "cellMetadata": {},
     "inputWidgets": {},
     "nuid": "95ead6ce-7ffa-4c77-9222-a747c80a3625",
     "showTitle": false,
     "tableResultSettingsMap": {},
     "title": ""
    }
   },
   "source": [
    "**Load the model and use it to predict the species for a new penguin observation.**"
   ]
  },
  {
   "cell_type": "code",
   "execution_count": 0,
   "metadata": {
    "application/vnd.databricks.v1+cell": {
     "cellMetadata": {
      "byteLimit": 2048000,
      "rowLimit": 10000
     },
     "inputWidgets": {},
     "nuid": "61792b66-9c56-471e-a93b-7f156aab99f7",
     "showTitle": false,
     "tableResultSettingsMap": {},
     "title": ""
    }
   },
   "outputs": [
    {
     "output_type": "display_data",
     "data": {
      "text/html": [
       "<style scoped>\n",
       "  .table-result-container {\n",
       "    max-height: 300px;\n",
       "    overflow: auto;\n",
       "  }\n",
       "  table, th, td {\n",
       "    border: 1px solid black;\n",
       "    border-collapse: collapse;\n",
       "  }\n",
       "  th, td {\n",
       "    padding: 5px;\n",
       "  }\n",
       "  th {\n",
       "    text-align: left;\n",
       "  }\n",
       "</style><div class='table-result-container'><table class='table-result'><thead style='background-color: white'><tr><th>Island</th><th>CulmenDepth</th><th>CulmenLength</th><th>FlipperLength</th><th>BodyMass</th><th>PredictedSpecies</th></tr></thead><tbody><tr><td>Biscoe</td><td>14.5</td><td>47.6</td><td>215</td><td>5400</td><td>1.0</td></tr></tbody></table></div>"
      ]
     },
     "metadata": {
      "application/vnd.databricks.v1+output": {
       "addedWidgets": {},
       "aggData": [],
       "aggError": "",
       "aggOverflow": false,
       "aggSchema": [],
       "aggSeriesLimitReached": false,
       "aggType": "",
       "arguments": {},
       "columnCustomDisplayInfos": {},
       "data": [
        [
         "Biscoe",
         14.5,
         47.6,
         215,
         5400,
         1.0
        ]
       ],
       "datasetInfos": [],
       "dbfsResultPath": null,
       "isJsonSchema": true,
       "metadata": {},
       "overflow": false,
       "plotOptions": {
        "customPlotOptions": {},
        "displayType": "table",
        "pivotAggregation": null,
        "pivotColumns": null,
        "xColumns": null,
        "yColumns": null
       },
       "removedWidgets": [],
       "schema": [
        {
         "metadata": "{}",
         "name": "Island",
         "type": "\"string\""
        },
        {
         "metadata": "{}",
         "name": "CulmenDepth",
         "type": "\"double\""
        },
        {
         "metadata": "{}",
         "name": "CulmenLength",
         "type": "\"double\""
        },
        {
         "metadata": "{}",
         "name": "FlipperLength",
         "type": "\"long\""
        },
        {
         "metadata": "{}",
         "name": "BodyMass",
         "type": "\"long\""
        },
        {
         "metadata": "{\"ml_attr\":{\"type\":\"nominal\",\"num_vals\":3}}",
         "name": "PredictedSpecies",
         "type": "\"double\""
        }
       ],
       "type": "table"
      }
     },
     "output_type": "display_data"
    }
   ],
   "source": [
    "from pyspark.ml.pipeline import PipelineModel\n",
    "\n",
    "persistedModel = PipelineModel.load(\"/models/newpenguin.model\")\n",
    "   \n",
    "newData = spark.createDataFrame ([{\"Island\": \"Biscoe\",\n",
    "                                  \"CulmenLength\": 47.6,\n",
    "                                  \"CulmenDepth\": 14.5,\n",
    "                                  \"FlipperLength\": 215,\n",
    "                                  \"BodyMass\": 5400}])\n",
    "   \n",
    "   \n",
    "predictions = persistedModel.transform(newData)\n",
    "display(predictions.select(\"Island\", \"CulmenDepth\", \"CulmenLength\", \"FlipperLength\", \"BodyMass\", col(\"prediction\").alias(\"PredictedSpecies\")))"
   ]
  }
 ],
 "metadata": {
  "application/vnd.databricks.v1+notebook": {
   "computePreferences": null,
   "dashboards": [],
   "environmentMetadata": {
    "base_environment": "",
    "client": "1"
   },
   "language": "python",
   "notebookMetadata": {
    "mostRecentlyExecutedCommandWithImplicitDF": {
     "commandId": 2405022073380008,
     "dataframes": [
      "_sqldf"
     ]
    },
    "pythonIndentUnit": 4
   },
   "notebookName": "Machine Learning",
   "widgets": {}
  },
  "language_info": {
   "name": "python"
  }
 },
 "nbformat": 4,
 "nbformat_minor": 0
}